{
 "cells": [
  {
   "cell_type": "markdown",
   "metadata": {},
   "source": [
    "# Project Description\n",
    "The data scientists at BigMart have collected 2013 sales data for 1559 products across 10 stores in different cities. Also, certain attributes of each product and store have been defined. The aim of this data science project is to build a predictive model and find out the sales of each product at a particular store.\n",
    "\n",
    "Using this model, BigMart will try to understand the properties of products and stores which play a key role in increasing sales.\n",
    "\n",
    "The data has missing values as some stores do not report all the data due to technical glitches. Hence, it will be required to treat them accordingly."
   ]
  },
  {
   "cell_type": "markdown",
   "metadata": {},
   "source": [
    "# Importing Libraries "
   ]
  },
  {
   "cell_type": "code",
   "execution_count": 1,
   "metadata": {},
   "outputs": [],
   "source": [
    "import pandas as pd\n",
    "import numpy as np\n",
    "from sklearn.impute import SimpleImputer\n",
    "import sweetviz as sv\n",
    "from category_encoders.one_hot import OneHotEncoder\n",
    "import matplotlib.pyplot as plt\n",
    "import seaborn as sns\n",
    "from xgboost import XGBRegressor\n",
    "from sklearn.model_selection import train_test_split\n",
    "from sklearn.preprocessing import MinMaxScaler\n",
    "from pandas_profiling import ProfileReport"
   ]
  },
  {
   "cell_type": "code",
   "execution_count": 2,
   "metadata": {},
   "outputs": [],
   "source": [
    "#Read files:\n",
    "train = pd.read_csv('D:\\downloads\\Train.csv')\n",
    "test = pd.read_csv('D:\\downloads\\Test.csv')"
   ]
  },
  {
   "cell_type": "code",
   "execution_count": 3,
   "metadata": {},
   "outputs": [
    {
     "name": "stdout",
     "output_type": "stream",
     "text": [
      "(8523, 13) (5681, 12) (14204, 13)\n"
     ]
    }
   ],
   "source": [
    "train['source']='train'\n",
    "test['source']='test'\n",
    "df = pd.concat([train,test],ignore_index=True)\n",
    "print(train.shape,test.shape,df.shape)"
   ]
  },
  {
   "cell_type": "code",
   "execution_count": 4,
   "metadata": {},
   "outputs": [
    {
     "data": {
      "text/html": [
       "<div>\n",
       "<style scoped>\n",
       "    .dataframe tbody tr th:only-of-type {\n",
       "        vertical-align: middle;\n",
       "    }\n",
       "\n",
       "    .dataframe tbody tr th {\n",
       "        vertical-align: top;\n",
       "    }\n",
       "\n",
       "    .dataframe thead th {\n",
       "        text-align: right;\n",
       "    }\n",
       "</style>\n",
       "<table border=\"1\" class=\"dataframe\">\n",
       "  <thead>\n",
       "    <tr style=\"text-align: right;\">\n",
       "      <th></th>\n",
       "      <th>Item_Identifier</th>\n",
       "      <th>Item_Weight</th>\n",
       "      <th>Item_Fat_Content</th>\n",
       "      <th>Item_Visibility</th>\n",
       "      <th>Item_Type</th>\n",
       "      <th>Item_MRP</th>\n",
       "      <th>Outlet_Identifier</th>\n",
       "      <th>Outlet_Establishment_Year</th>\n",
       "      <th>Outlet_Size</th>\n",
       "      <th>Outlet_Location_Type</th>\n",
       "      <th>Outlet_Type</th>\n",
       "      <th>Item_Outlet_Sales</th>\n",
       "      <th>source</th>\n",
       "    </tr>\n",
       "  </thead>\n",
       "  <tbody>\n",
       "    <tr>\n",
       "      <th>0</th>\n",
       "      <td>FDA15</td>\n",
       "      <td>9.30</td>\n",
       "      <td>Low Fat</td>\n",
       "      <td>0.016047</td>\n",
       "      <td>Dairy</td>\n",
       "      <td>249.8092</td>\n",
       "      <td>OUT049</td>\n",
       "      <td>1999</td>\n",
       "      <td>Medium</td>\n",
       "      <td>Tier 1</td>\n",
       "      <td>Supermarket Type1</td>\n",
       "      <td>3735.1380</td>\n",
       "      <td>train</td>\n",
       "    </tr>\n",
       "    <tr>\n",
       "      <th>1</th>\n",
       "      <td>DRC01</td>\n",
       "      <td>5.92</td>\n",
       "      <td>Regular</td>\n",
       "      <td>0.019278</td>\n",
       "      <td>Soft Drinks</td>\n",
       "      <td>48.2692</td>\n",
       "      <td>OUT018</td>\n",
       "      <td>2009</td>\n",
       "      <td>Medium</td>\n",
       "      <td>Tier 3</td>\n",
       "      <td>Supermarket Type2</td>\n",
       "      <td>443.4228</td>\n",
       "      <td>train</td>\n",
       "    </tr>\n",
       "    <tr>\n",
       "      <th>2</th>\n",
       "      <td>FDN15</td>\n",
       "      <td>17.50</td>\n",
       "      <td>Low Fat</td>\n",
       "      <td>0.016760</td>\n",
       "      <td>Meat</td>\n",
       "      <td>141.6180</td>\n",
       "      <td>OUT049</td>\n",
       "      <td>1999</td>\n",
       "      <td>Medium</td>\n",
       "      <td>Tier 1</td>\n",
       "      <td>Supermarket Type1</td>\n",
       "      <td>2097.2700</td>\n",
       "      <td>train</td>\n",
       "    </tr>\n",
       "    <tr>\n",
       "      <th>3</th>\n",
       "      <td>FDX07</td>\n",
       "      <td>19.20</td>\n",
       "      <td>Regular</td>\n",
       "      <td>0.000000</td>\n",
       "      <td>Fruits and Vegetables</td>\n",
       "      <td>182.0950</td>\n",
       "      <td>OUT010</td>\n",
       "      <td>1998</td>\n",
       "      <td>NaN</td>\n",
       "      <td>Tier 3</td>\n",
       "      <td>Grocery Store</td>\n",
       "      <td>732.3800</td>\n",
       "      <td>train</td>\n",
       "    </tr>\n",
       "    <tr>\n",
       "      <th>4</th>\n",
       "      <td>NCD19</td>\n",
       "      <td>8.93</td>\n",
       "      <td>Low Fat</td>\n",
       "      <td>0.000000</td>\n",
       "      <td>Household</td>\n",
       "      <td>53.8614</td>\n",
       "      <td>OUT013</td>\n",
       "      <td>1987</td>\n",
       "      <td>High</td>\n",
       "      <td>Tier 3</td>\n",
       "      <td>Supermarket Type1</td>\n",
       "      <td>994.7052</td>\n",
       "      <td>train</td>\n",
       "    </tr>\n",
       "  </tbody>\n",
       "</table>\n",
       "</div>"
      ],
      "text/plain": [
       "  Item_Identifier  Item_Weight Item_Fat_Content  Item_Visibility  \\\n",
       "0           FDA15         9.30          Low Fat         0.016047   \n",
       "1           DRC01         5.92          Regular         0.019278   \n",
       "2           FDN15        17.50          Low Fat         0.016760   \n",
       "3           FDX07        19.20          Regular         0.000000   \n",
       "4           NCD19         8.93          Low Fat         0.000000   \n",
       "\n",
       "               Item_Type  Item_MRP Outlet_Identifier  \\\n",
       "0                  Dairy  249.8092            OUT049   \n",
       "1            Soft Drinks   48.2692            OUT018   \n",
       "2                   Meat  141.6180            OUT049   \n",
       "3  Fruits and Vegetables  182.0950            OUT010   \n",
       "4              Household   53.8614            OUT013   \n",
       "\n",
       "   Outlet_Establishment_Year Outlet_Size Outlet_Location_Type  \\\n",
       "0                       1999      Medium               Tier 1   \n",
       "1                       2009      Medium               Tier 3   \n",
       "2                       1999      Medium               Tier 1   \n",
       "3                       1998         NaN               Tier 3   \n",
       "4                       1987        High               Tier 3   \n",
       "\n",
       "         Outlet_Type  Item_Outlet_Sales source  \n",
       "0  Supermarket Type1          3735.1380  train  \n",
       "1  Supermarket Type2           443.4228  train  \n",
       "2  Supermarket Type1          2097.2700  train  \n",
       "3      Grocery Store           732.3800  train  \n",
       "4  Supermarket Type1           994.7052  train  "
      ]
     },
     "execution_count": 4,
     "metadata": {},
     "output_type": "execute_result"
    }
   ],
   "source": [
    "df.head()"
   ]
  },
  {
   "cell_type": "code",
   "execution_count": 5,
   "metadata": {},
   "outputs": [
    {
     "data": {
      "text/plain": [
       "(14204, 13)"
      ]
     },
     "execution_count": 5,
     "metadata": {},
     "output_type": "execute_result"
    }
   ],
   "source": [
    "df.shape"
   ]
  },
  {
   "cell_type": "code",
   "execution_count": 6,
   "metadata": {},
   "outputs": [
    {
     "name": "stdout",
     "output_type": "stream",
     "text": [
      "<class 'pandas.core.frame.DataFrame'>\n",
      "RangeIndex: 14204 entries, 0 to 14203\n",
      "Data columns (total 13 columns):\n",
      " #   Column                     Non-Null Count  Dtype  \n",
      "---  ------                     --------------  -----  \n",
      " 0   Item_Identifier            14204 non-null  object \n",
      " 1   Item_Weight                11765 non-null  float64\n",
      " 2   Item_Fat_Content           14204 non-null  object \n",
      " 3   Item_Visibility            14204 non-null  float64\n",
      " 4   Item_Type                  14204 non-null  object \n",
      " 5   Item_MRP                   14204 non-null  float64\n",
      " 6   Outlet_Identifier          14204 non-null  object \n",
      " 7   Outlet_Establishment_Year  14204 non-null  int64  \n",
      " 8   Outlet_Size                10188 non-null  object \n",
      " 9   Outlet_Location_Type       14204 non-null  object \n",
      " 10  Outlet_Type                14204 non-null  object \n",
      " 11  Item_Outlet_Sales          8523 non-null   float64\n",
      " 12  source                     14204 non-null  object \n",
      "dtypes: float64(4), int64(1), object(8)\n",
      "memory usage: 1.4+ MB\n"
     ]
    }
   ],
   "source": [
    "df.info()"
   ]
  },
  {
   "cell_type": "code",
   "execution_count": 7,
   "metadata": {},
   "outputs": [
    {
     "data": {
      "text/plain": [
       "Item_Identifier                 0\n",
       "Item_Weight                  2439\n",
       "Item_Fat_Content                0\n",
       "Item_Visibility                 0\n",
       "Item_Type                       0\n",
       "Item_MRP                        0\n",
       "Outlet_Identifier               0\n",
       "Outlet_Establishment_Year       0\n",
       "Outlet_Size                  4016\n",
       "Outlet_Location_Type            0\n",
       "Outlet_Type                     0\n",
       "Item_Outlet_Sales            5681\n",
       "source                          0\n",
       "dtype: int64"
      ]
     },
     "execution_count": 7,
     "metadata": {},
     "output_type": "execute_result"
    }
   ],
   "source": [
    "df.isna()\n",
    "df.isna().sum()"
   ]
  },
  {
   "cell_type": "code",
   "execution_count": 8,
   "metadata": {},
   "outputs": [
    {
     "data": {
      "text/plain": [
       "Index(['Item_Identifier', 'Item_Weight', 'Item_Fat_Content', 'Item_Visibility',\n",
       "       'Item_Type', 'Item_MRP', 'Outlet_Identifier',\n",
       "       'Outlet_Establishment_Year', 'Outlet_Size', 'Outlet_Location_Type',\n",
       "       'Outlet_Type', 'Item_Outlet_Sales', 'source'],\n",
       "      dtype='object')"
      ]
     },
     "execution_count": 8,
     "metadata": {},
     "output_type": "execute_result"
    }
   ],
   "source": [
    "df.columns"
   ]
  },
  {
   "cell_type": "markdown",
   "metadata": {},
   "source": [
    "# Exploratory Data Analysis"
   ]
  },
  {
   "cell_type": "code",
   "execution_count": 9,
   "metadata": {},
   "outputs": [
    {
     "data": {
      "text/plain": [
       "Item_Identifier               1559\n",
       "Item_Weight                    415\n",
       "Item_Fat_Content                 5\n",
       "Item_Visibility              13006\n",
       "Item_Type                       16\n",
       "Item_MRP                      8052\n",
       "Outlet_Identifier               10\n",
       "Outlet_Establishment_Year        9\n",
       "Outlet_Size                      3\n",
       "Outlet_Location_Type             3\n",
       "Outlet_Type                      4\n",
       "Item_Outlet_Sales             3493\n",
       "source                           2\n",
       "dtype: int64"
      ]
     },
     "execution_count": 9,
     "metadata": {},
     "output_type": "execute_result"
    }
   ],
   "source": [
    "# Displaying the Unique data for each column\n",
    "df.nunique()"
   ]
  },
  {
   "cell_type": "markdown",
   "metadata": {},
   "source": [
    "# Evaluating the Categorical Features"
   ]
  },
  {
   "cell_type": "code",
   "execution_count": 10,
   "metadata": {},
   "outputs": [
    {
     "name": "stdout",
     "output_type": "stream",
     "text": [
      "Item_Identifier\n",
      "NCC18    10\n",
      "FDD08    10\n",
      "FDR37    10\n",
      "FDA13    10\n",
      "FDH14    10\n",
      "         ..\n",
      "FDS22     7\n",
      "FDM52     7\n",
      "FDR51     7\n",
      "FDH58     7\n",
      "FDM10     7\n",
      "Name: Item_Identifier, Length: 1559, dtype: int64\n",
      " \n",
      "Item_Fat_Content\n",
      "Low Fat    8485\n",
      "Regular    4824\n",
      "LF          522\n",
      "reg         195\n",
      "low fat     178\n",
      "Name: Item_Fat_Content, dtype: int64\n",
      " \n",
      "Item_Type\n",
      "Fruits and Vegetables    2013\n",
      "Snack Foods              1989\n",
      "Household                1548\n",
      "Frozen Foods             1426\n",
      "Dairy                    1136\n",
      "Baking Goods             1086\n",
      "Canned                   1084\n",
      "Health and Hygiene        858\n",
      "Meat                      736\n",
      "Soft Drinks               726\n",
      "Breads                    416\n",
      "Hard Drinks               362\n",
      "Others                    280\n",
      "Starchy Foods             269\n",
      "Breakfast                 186\n",
      "Seafood                    89\n",
      "Name: Item_Type, dtype: int64\n",
      " \n",
      "Outlet_Identifier\n",
      "OUT027    1559\n",
      "OUT013    1553\n",
      "OUT049    1550\n",
      "OUT035    1550\n",
      "OUT046    1550\n",
      "OUT045    1548\n",
      "OUT018    1546\n",
      "OUT017    1543\n",
      "OUT010     925\n",
      "OUT019     880\n",
      "Name: Outlet_Identifier, dtype: int64\n",
      " \n",
      "Outlet_Size\n",
      "Medium    4655\n",
      "Small     3980\n",
      "High      1553\n",
      "Name: Outlet_Size, dtype: int64\n",
      " \n",
      "Outlet_Location_Type\n",
      "Tier 3    5583\n",
      "Tier 2    4641\n",
      "Tier 1    3980\n",
      "Name: Outlet_Location_Type, dtype: int64\n",
      " \n",
      "Outlet_Type\n",
      "Supermarket Type1    9294\n",
      "Grocery Store        1805\n",
      "Supermarket Type3    1559\n",
      "Supermarket Type2    1546\n",
      "Name: Outlet_Type, dtype: int64\n",
      " \n",
      "source\n",
      "train    8523\n",
      "test     5681\n",
      "Name: source, dtype: int64\n",
      " \n"
     ]
    }
   ],
   "source": [
    "sum(df.dtypes == object)\n",
    "for col in df.columns.to_list():\n",
    "    if df[col].dtype == object:\n",
    "        print(col)\n",
    "        print(df[col].value_counts())\n",
    "        print(' ')"
   ]
  },
  {
   "cell_type": "code",
   "execution_count": 11,
   "metadata": {},
   "outputs": [
    {
     "name": "stdout",
     "output_type": "stream",
     "text": [
      "Frequency of Categories for varible Item ID\n"
     ]
    },
    {
     "data": {
      "text/plain": [
       "NCC18    10\n",
       "FDD08    10\n",
       "FDR37    10\n",
       "FDA13    10\n",
       "FDH14    10\n",
       "Name: Item_Identifier, dtype: int64"
      ]
     },
     "execution_count": 11,
     "metadata": {},
     "output_type": "execute_result"
    }
   ],
   "source": [
    "print('Frequency of Categories for varible Item ID')\n",
    "id_counts = df['Item_Identifier'].value_counts()\n",
    "id_counts.head()"
   ]
  },
  {
   "cell_type": "code",
   "execution_count": 12,
   "metadata": {},
   "outputs": [
    {
     "name": "stdout",
     "output_type": "stream",
     "text": [
      "Frequency of Categories for varible Item_Fat_Content\n"
     ]
    },
    {
     "data": {
      "text/plain": [
       "Low Fat    8485\n",
       "Regular    4824\n",
       "LF          522\n",
       "reg         195\n",
       "low fat     178\n",
       "Name: Item_Fat_Content, dtype: int64"
      ]
     },
     "execution_count": 12,
     "metadata": {},
     "output_type": "execute_result"
    }
   ],
   "source": [
    "print('Frequency of Categories for varible Item_Fat_Content')\n",
    "df['Item_Fat_Content'].value_counts()"
   ]
  },
  {
   "cell_type": "code",
   "execution_count": 13,
   "metadata": {},
   "outputs": [
    {
     "name": "stdout",
     "output_type": "stream",
     "text": [
      "Frequency of Categories for varible Item_Type\n"
     ]
    },
    {
     "data": {
      "text/plain": [
       "Fruits and Vegetables    2013\n",
       "Snack Foods              1989\n",
       "Household                1548\n",
       "Frozen Foods             1426\n",
       "Dairy                    1136\n",
       "Baking Goods             1086\n",
       "Canned                   1084\n",
       "Health and Hygiene        858\n",
       "Meat                      736\n",
       "Soft Drinks               726\n",
       "Breads                    416\n",
       "Hard Drinks               362\n",
       "Others                    280\n",
       "Starchy Foods             269\n",
       "Breakfast                 186\n",
       "Seafood                    89\n",
       "Name: Item_Type, dtype: int64"
      ]
     },
     "execution_count": 13,
     "metadata": {},
     "output_type": "execute_result"
    }
   ],
   "source": [
    "print('Frequency of Categories for varible Item_Type')\n",
    "df['Item_Type'].value_counts()"
   ]
  },
  {
   "cell_type": "code",
   "execution_count": 14,
   "metadata": {},
   "outputs": [
    {
     "name": "stdout",
     "output_type": "stream",
     "text": [
      "Item_Fat_Content  Item_Type            \n",
      "LF                Baking Goods             27\n",
      "                  Breads                   17\n",
      "                  Breakfast                 3\n",
      "                  Canned                   30\n",
      "                  Dairy                    39\n",
      "                                           ..\n",
      "reg               Fruits and Vegetables    32\n",
      "                  Meat                     15\n",
      "                  Snack Foods              38\n",
      "                  Soft Drinks               4\n",
      "                  Starchy Foods             8\n",
      "Length: 70, dtype: int64\n"
     ]
    }
   ],
   "source": [
    "Item_Type_and_fat_counts = df.groupby([\"Item_Fat_Content\",\"Item_Type\"]).size()\n",
    "print(Item_Type_and_fat_counts)"
   ]
  },
  {
   "cell_type": "code",
   "execution_count": 15,
   "metadata": {},
   "outputs": [
    {
     "name": "stdout",
     "output_type": "stream",
     "text": [
      "Frequency of Categories for varible Outlet ID\n"
     ]
    },
    {
     "data": {
      "text/plain": [
       "OUT027    1559\n",
       "OUT013    1553\n",
       "OUT049    1550\n",
       "OUT035    1550\n",
       "OUT046    1550\n",
       "OUT045    1548\n",
       "OUT018    1546\n",
       "OUT017    1543\n",
       "OUT010     925\n",
       "OUT019     880\n",
       "Name: Outlet_Identifier, dtype: int64"
      ]
     },
     "execution_count": 15,
     "metadata": {},
     "output_type": "execute_result"
    }
   ],
   "source": [
    "print('Frequency of Categories for varible Outlet ID')\n",
    "outlet_id_counts = df['Outlet_Identifier'].value_counts()\n",
    "outlet_id_counts"
   ]
  },
  {
   "cell_type": "code",
   "execution_count": 16,
   "metadata": {},
   "outputs": [
    {
     "name": "stdout",
     "output_type": "stream",
     "text": [
      "Frequency of Categories for varible Outlet_Location_Type\n"
     ]
    },
    {
     "data": {
      "text/plain": [
       "Tier 3    5583\n",
       "Tier 2    4641\n",
       "Tier 1    3980\n",
       "Name: Outlet_Location_Type, dtype: int64"
      ]
     },
     "execution_count": 16,
     "metadata": {},
     "output_type": "execute_result"
    }
   ],
   "source": [
    "print('Frequency of Categories for varible Outlet_Location_Type')\n",
    "df['Outlet_Location_Type'].value_counts()"
   ]
  },
  {
   "cell_type": "code",
   "execution_count": 17,
   "metadata": {},
   "outputs": [
    {
     "name": "stdout",
     "output_type": "stream",
     "text": [
      "Frequency of Categories for varible Outlet_Size\n"
     ]
    },
    {
     "data": {
      "text/plain": [
       "Medium    4655\n",
       "Small     3980\n",
       "High      1553\n",
       "Name: Outlet_Size, dtype: int64"
      ]
     },
     "execution_count": 17,
     "metadata": {},
     "output_type": "execute_result"
    }
   ],
   "source": [
    "print('Frequency of Categories for varible Outlet_Size')\n",
    "df['Outlet_Size'].value_counts()"
   ]
  },
  {
   "cell_type": "code",
   "execution_count": 18,
   "metadata": {},
   "outputs": [
    {
     "name": "stdout",
     "output_type": "stream",
     "text": [
      "Frequency of Categories for varible Outlet_Type\n"
     ]
    },
    {
     "data": {
      "text/plain": [
       "Supermarket Type1    9294\n",
       "Grocery Store        1805\n",
       "Supermarket Type3    1559\n",
       "Supermarket Type2    1546\n",
       "Name: Outlet_Type, dtype: int64"
      ]
     },
     "execution_count": 18,
     "metadata": {},
     "output_type": "execute_result"
    }
   ],
   "source": [
    "print('Frequency of Categories for varible Outlet_Type')\n",
    "df['Outlet_Type'].value_counts()"
   ]
  },
  {
   "cell_type": "code",
   "execution_count": 19,
   "metadata": {},
   "outputs": [
    {
     "name": "stdout",
     "output_type": "stream",
     "text": [
      "Outlet_Location_Type  Outlet_Identifier  Outlet_Type      \n",
      "Tier 1                OUT019             Grocery Store         880\n",
      "                      OUT046             Supermarket Type1    1550\n",
      "                      OUT049             Supermarket Type1    1550\n",
      "Tier 2                OUT017             Supermarket Type1    1543\n",
      "                      OUT035             Supermarket Type1    1550\n",
      "                      OUT045             Supermarket Type1    1548\n",
      "Tier 3                OUT010             Grocery Store         925\n",
      "                      OUT013             Supermarket Type1    1553\n",
      "                      OUT018             Supermarket Type2    1546\n",
      "                      OUT027             Supermarket Type3    1559\n",
      "dtype: int64\n"
     ]
    }
   ],
   "source": [
    "Outlet_Location_Type_counts = df.groupby([\"Outlet_Location_Type\",\"Outlet_Identifier\",\"Outlet_Type\"]).size()\n",
    "print(Outlet_Location_Type_counts)"
   ]
  },
  {
   "cell_type": "code",
   "execution_count": 20,
   "metadata": {},
   "outputs": [
    {
     "name": "stdout",
     "output_type": "stream",
     "text": [
      "Outlet_Type        Outlet_Size\n",
      "Grocery Store      Small           880\n",
      "Supermarket Type1  High           1553\n",
      "                   Medium         1550\n",
      "                   Small          3100\n",
      "Supermarket Type2  Medium         1546\n",
      "Supermarket Type3  Medium         1559\n",
      "dtype: int64\n"
     ]
    }
   ],
   "source": [
    "Outlet_Location_Type_counts = df.groupby([\"Outlet_Type\",\"Outlet_Size\"]).size()\n",
    "print(Outlet_Location_Type_counts)"
   ]
  },
  {
   "cell_type": "markdown",
   "metadata": {},
   "source": [
    "# Visualizing the Relationship between Features and Response"
   ]
  },
  {
   "cell_type": "code",
   "execution_count": 67,
   "metadata": {},
   "outputs": [
    {
     "name": "stderr",
     "output_type": "stream",
     "text": [
      ":FEATURES DONE:                    |█████████████████████| [100%]   00:17  -> (00:00 left)\n",
      ":PAIRWISE DONE:                    |█████████████████████| [100%]   00:05  -> (00:00 left)\n"
     ]
    },
    {
     "name": "stdout",
     "output_type": "stream",
     "text": [
      "Creating Associations graph... DONE!\n",
      "Report SWEETVIZ_REPORT.html was generated! NOTEBOOK/COLAB USERS: no browser will pop up, the report is saved in your notebook/colab files.\n"
     ]
    }
   ],
   "source": [
    "my_report = sv.analyze(df, target_feat = 'Item_Outlet_Sales')\n",
    "my_report.show_html()"
   ]
  },
  {
   "cell_type": "code",
   "execution_count": 22,
   "metadata": {},
   "outputs": [
    {
     "data": {
      "application/vnd.jupyter.widget-view+json": {
       "model_id": "5de2bdcb52434206ad553b8418b7c7a0",
       "version_major": 2,
       "version_minor": 0
      },
      "text/plain": [
       "HBox(children=(FloatProgress(value=0.0, description='Summarize dataset', max=27.0, style=ProgressStyle(descrip…"
      ]
     },
     "metadata": {},
     "output_type": "display_data"
    },
    {
     "name": "stdout",
     "output_type": "stream",
     "text": [
      "\n"
     ]
    },
    {
     "data": {
      "application/vnd.jupyter.widget-view+json": {
       "model_id": "9a027edb7add498da319cdeeab1f6c5f",
       "version_major": 2,
       "version_minor": 0
      },
      "text/plain": [
       "HBox(children=(FloatProgress(value=0.0, description='Generate report structure', max=1.0, style=ProgressStyle(…"
      ]
     },
     "metadata": {},
     "output_type": "display_data"
    },
    {
     "name": "stdout",
     "output_type": "stream",
     "text": [
      "\n"
     ]
    },
    {
     "data": {
      "application/vnd.jupyter.widget-view+json": {
       "model_id": "c84a5d21e4c847a480b9916012b50517",
       "version_major": 2,
       "version_minor": 0
      },
      "text/plain": [
       "HBox(children=(FloatProgress(value=0.0, description='Render HTML', max=1.0, style=ProgressStyle(description_wi…"
      ]
     },
     "metadata": {},
     "output_type": "display_data"
    },
    {
     "name": "stdout",
     "output_type": "stream",
     "text": [
      "\n"
     ]
    },
    {
     "data": {
      "application/vnd.jupyter.widget-view+json": {
       "model_id": "fcafb7709be14f70b86a0dd44e63c314",
       "version_major": 2,
       "version_minor": 0
      },
      "text/plain": [
       "HBox(children=(FloatProgress(value=0.0, description='Export report to file', max=1.0, style=ProgressStyle(desc…"
      ]
     },
     "metadata": {},
     "output_type": "display_data"
    },
    {
     "name": "stdout",
     "output_type": "stream",
     "text": [
      "\n"
     ]
    }
   ],
   "source": [
    "report = ProfileReport(df,explorative=True ,title = 'Dataset Analysis Report')\n",
    "report.to_file(\"Analyis Report.html\")"
   ]
  },
  {
   "cell_type": "code",
   "execution_count": 23,
   "metadata": {},
   "outputs": [
    {
     "data": {
      "image/png": "[encoded data removed]",
      "text/plain": [
       "<Figure size 600x400 with 2 Axes>"
      ]
     },
     "metadata": {},
     "output_type": "display_data"
    }
   ],
   "source": [
    "sns.heatmap(df.corr(), fmt = '.3f',annot = True)\n",
    "plt.show()"
   ]
  },
  {
   "cell_type": "markdown",
   "metadata": {},
   "source": [
    "# Handling Missing values\n",
    "We found two variables with missing values – Item_Weight and Outlet_Size\n",
    "_______________________________________________________________________________________________________________________________\n",
    "#### Replacing the missing values of weight with the average weight of the same product"
   ]
  },
  {
   "cell_type": "code",
   "execution_count": 24,
   "metadata": {},
   "outputs": [],
   "source": [
    "def impute_Item_Weight(df):\n",
    "    \"\"\" This Function Replace the missing values of the Item_weight\n",
    "    \"\"\"\n",
    "    # #Determine the average weight per item:\n",
    "    item_avg_weight = df.groupby([\"Item_Identifier\"])[\"Item_Weight\"].mean()\n",
    "    item_avg_weight\n",
    "\n",
    "    #Get a boolean variable specifying missing Item_Weight values\n",
    "    miss_bool = df['Item_Weight'].isnull() \n",
    "\n",
    "    #Impute data and check #missing values before and after imputation to confirm\n",
    "    print('Orignal #missing: %d'% sum(miss_bool))\n",
    "    df.loc[miss_bool,'Item_Weight'] = df.loc[miss_bool,'Item_Identifier'].apply(lambda x: item_avg_weight.loc[x])\n",
    "    print('Final #missing: %d'% sum(df['Item_Weight'].isnull()))\n",
    "    \n",
    "    return df"
   ]
  },
  {
   "cell_type": "markdown",
   "metadata": {},
   "source": [
    "### Lets impute Outlet_Size with the mode of the Outlet_Size for the particular type of outlet."
   ]
  },
  {
   "cell_type": "code",
   "execution_count": 25,
   "metadata": {},
   "outputs": [],
   "source": [
    "#Import mode function:\n",
    "from scipy.stats import mode\n",
    "\n",
    "def impute_Outlet_size(df):\n",
    "    \"\"\" This function replace the missing Outlet_size values\n",
    "    \"\"\"\n",
    "    #Determing the mode for each\n",
    "    outlet_size_mode = df.pivot_table(values='Outlet_Size', columns='Outlet_Type',aggfunc=(lambda x:mode(x).mode[0]) )\n",
    "    print('Mode for each Outlet_Type:')\n",
    "    print(outlet_size_mode)\n",
    "\n",
    "    #Get a boolean variable specifying missing Item_Weight values\n",
    "    miss_bool = df['Outlet_Size'].isnull() \n",
    "\n",
    "    #Impute data and check #missing values before and after imputation to confirm\n",
    "    print('\\nOrignal #missing: %d'% sum(miss_bool))\n",
    "    df.loc[miss_bool,'Outlet_Size'] = df.loc[miss_bool,'Outlet_Type'].apply(lambda x: outlet_size_mode[x])\n",
    "    print('\\nFinal #missing: %d'%sum(df['Outlet_Size'].isnull()))\n",
    "    \n",
    "    return df"
   ]
  },
  {
   "cell_type": "markdown",
   "metadata": {},
   "source": [
    "# __________________________________________________________________"
   ]
  },
  {
   "cell_type": "code",
   "execution_count": 26,
   "metadata": {},
   "outputs": [],
   "source": [
    "def Handling_missing_values(df):\n",
    "    \"\"\" Handling the missing values\n",
    "    \"\"\"\n",
    "    df = impute_Item_Weight(df)\n",
    "    df = impute_Outlet_size(df)\n",
    "    \n",
    "    miss_after_bool = df['Item_Weight'].isnull() \n",
    "    df = df.loc[~miss_after_bool,:]\n",
    "    \n",
    "    return df"
   ]
  },
  {
   "cell_type": "markdown",
   "metadata": {},
   "source": [
    "# ___"
   ]
  },
  {
   "cell_type": "markdown",
   "metadata": {},
   "source": [
    "# Handling the Categorical Data\n",
    "_______________________________________________________________________________________________________________________________\n",
    "### Modify Item_Visibility\n",
    "We noticed that the minimum value here is 0, which makes no practical sense."
   ]
  },
  {
   "cell_type": "code",
   "execution_count": 27,
   "metadata": {},
   "outputs": [],
   "source": [
    "def modify_item_visibility(df):\n",
    "    #Determine average visibility of a product\n",
    "    visibility_avg = df.pivot_table(values='Item_Visibility', index='Item_Identifier')\n",
    "\n",
    "    #Impute 0 values with mean visibility of that product:\n",
    "    miss_bool = (df['Item_Visibility'] == 0)\n",
    "\n",
    "    print('Number of 0 values initially: %d'%sum(miss_bool))\n",
    "    df.loc[miss_bool,'Item_Visibility'] = df.loc[miss_bool,'Item_Identifier'].apply(lambda x: visibility_avg.loc[x])\n",
    "    print('Number of 0 values after modification: %d'%sum(df['Item_Visibility'] == 0))\n",
    "    \n",
    "    return df"
   ]
  },
  {
   "cell_type": "code",
   "execution_count": 28,
   "metadata": {},
   "outputs": [
    {
     "data": {
      "text/plain": [
       "Item_Identifier  Item_Type         \n",
       "DRA12            Soft Drinks            9\n",
       "DRA24            Soft Drinks           10\n",
       "DRA59            Soft Drinks           10\n",
       "DRB01            Soft Drinks            8\n",
       "DRB13            Soft Drinks            9\n",
       "                                       ..\n",
       "NCZ30            Household             10\n",
       "NCZ41            Health and Hygiene     8\n",
       "NCZ42            Household             10\n",
       "NCZ53            Health and Hygiene     9\n",
       "NCZ54            Household             10\n",
       "Length: 1559, dtype: int64"
      ]
     },
     "execution_count": 28,
     "metadata": {},
     "output_type": "execute_result"
    }
   ],
   "source": [
    "df.groupby([\"Item_Identifier\",\"Item_Type\"]).size()"
   ]
  },
  {
   "cell_type": "markdown",
   "metadata": {},
   "source": [
    "We can clearly observe that the First 2 characters of the Item ID is same for the One kind of Item Type. Example: DR is the code for Soft Drinks, NC is the code of Non- Consumable Products and FD is for Food products\n",
    "\n",
    "### Create a broad category of Type of Item\n"
   ]
  },
  {
   "cell_type": "code",
   "execution_count": 29,
   "metadata": {},
   "outputs": [],
   "source": [
    "def broad_item_type(df):\n",
    "    #Get the first two characters of ID:\n",
    "    df['Item_Type_Combined'] = df['Item_Identifier'].apply(lambda x: x[0:2])\n",
    "    #Rename them to more intuitive categories:\n",
    "    df['Item_Type_Combined'] = df['Item_Type_Combined'].map({'FD':'Food',\n",
    "                                                                 'NC':'Non-Consumable',\n",
    "                                                                 'DR':'Drinks'})\n",
    "    print(df['Item_Type_Combined'].value_counts())\n",
    "    \n",
    "    return df"
   ]
  },
  {
   "cell_type": "code",
   "execution_count": 30,
   "metadata": {},
   "outputs": [
    {
     "data": {
      "text/plain": [
       "Outlet_Establishment_Year  Outlet_Identifier  Outlet_Type        Outlet_Location_Type\n",
       "1985                       OUT019             Grocery Store      Tier 1                   340.329723\n",
       "                           OUT027             Supermarket Type3  Tier 3                  3694.038558\n",
       "1987                       OUT013             Supermarket Type1  Tier 3                  2298.995256\n",
       "1997                       OUT046             Supermarket Type1  Tier 1                  2277.844267\n",
       "1998                       OUT010             Grocery Store      Tier 3                   339.351662\n",
       "1999                       OUT049             Supermarket Type1  Tier 1                  2348.354635\n",
       "2002                       OUT045             Supermarket Type1  Tier 2                  2192.384798\n",
       "2004                       OUT035             Supermarket Type1  Tier 2                  2438.841866\n",
       "2007                       OUT017             Supermarket Type1  Tier 2                  2340.675263\n",
       "2009                       OUT018             Supermarket Type2  Tier 3                  1995.498739\n",
       "Name: Item_Outlet_Sales, dtype: float64"
      ]
     },
     "execution_count": 30,
     "metadata": {},
     "output_type": "execute_result"
    }
   ],
   "source": [
    "df.groupby([\"Outlet_Establishment_Year\",\"Outlet_Identifier\",\"Outlet_Type\",\"Outlet_Location_Type\"])[\"Item_Outlet_Sales\"].mean()"
   ]
  },
  {
   "cell_type": "code",
   "execution_count": 31,
   "metadata": {},
   "outputs": [],
   "source": [
    "def cal_outlet_year(df):\n",
    "    \"\"\" Calculating the Outlet Year\n",
    "    \"\"\"\n",
    "    #Years:\n",
    "    df['Outlet_Years'] = 2013 - df['Outlet_Establishment_Year']\n",
    "    print(df['Outlet_Years'].describe())\n",
    "    \n",
    "    return df"
   ]
  },
  {
   "cell_type": "markdown",
   "metadata": {},
   "source": [
    "# Modify categories of Item_Fat_Content\n",
    "We found typos and difference in representation in categories of Item_Fat_Content variable."
   ]
  },
  {
   "cell_type": "code",
   "execution_count": 32,
   "metadata": {},
   "outputs": [],
   "source": [
    "def modify_item_fat_content(df):\n",
    "    #Change categories of low fat:\n",
    "    print('Original Categories:')\n",
    "    print(df['Item_Fat_Content'].value_counts())\n",
    "\n",
    "    print('\\nModified Categories:')\n",
    "    df['Item_Fat_Content'] = df['Item_Fat_Content'].replace({'LF':'Low Fat',\n",
    "                                                                 'reg':'Regular',\n",
    "                                                                 'low fat':'Low Fat'})\n",
    "    print(df['Item_Fat_Content'].value_counts())\n",
    "    \n",
    "    return df"
   ]
  },
  {
   "cell_type": "markdown",
   "metadata": {},
   "source": [
    "### We have corrected the typos and the difference in representation but some non-consumables as well and a fat-content should not be specified for them. So we can also create a separate category for such kind of observations."
   ]
  },
  {
   "cell_type": "code",
   "execution_count": 33,
   "metadata": {},
   "outputs": [],
   "source": [
    "def non_consumable_category(df):\n",
    "    #Mark non-consumables as separate category in low_fat:\n",
    "    df.loc[df['Item_Type_Combined']==\"Non-Consumable\",'Item_Fat_Content'] = \"Non-Edible\"\n",
    "    print(df['Item_Fat_Content'].value_counts())\n",
    "    \n",
    "    return df"
   ]
  },
  {
   "cell_type": "code",
   "execution_count": 34,
   "metadata": {},
   "outputs": [],
   "source": [
    "def Item_Visibility_MeanRatio(data):\n",
    "    #Get all Item_Visibility mean values for respective Item_Identifier\n",
    "    visibility_item_avg = data.pivot_table(values='Item_Visibility',index='Item_Identifier')\n",
    "\n",
    "    func = lambda x: x['Item_Visibility']/visibility_item_avg['Item_Visibility'][visibility_item_avg.index == x['Item_Identifier']][0]\n",
    "    data['Item_Visibility'] = data.apply(func,axis=1).astype(float)\n",
    "    data['Item_Visibility'].describe()\n",
    "    \n",
    "    return data"
   ]
  },
  {
   "cell_type": "markdown",
   "metadata": {},
   "source": [
    "# ______"
   ]
  },
  {
   "cell_type": "code",
   "execution_count": 35,
   "metadata": {},
   "outputs": [],
   "source": [
    "def Handling_categorical_data(df):\n",
    "    \n",
    "    # Modify Item_Visibility\n",
    "    df = modify_item_visibility(df)\n",
    "    \n",
    "    # Create a broad category of Type of Item\n",
    "    df = broad_item_type(df)\n",
    "    \n",
    "    # Calculating the Outlet Year\n",
    "    df = cal_outlet_year(df)\n",
    "    \n",
    "    # Modify categories of Item_Fat_Content\n",
    "    df = modify_item_fat_content(df)\n",
    "    \n",
    "    # Mark non-consumables as separate category in low_fat\n",
    "    df = non_consumable_category(df)\n",
    "    \n",
    "    df = Item_Visibility_MeanRatio(df)\n",
    "    \n",
    "    return df "
   ]
  },
  {
   "cell_type": "markdown",
   "metadata": {},
   "source": [
    "# ___________"
   ]
  },
  {
   "cell_type": "markdown",
   "metadata": {},
   "source": [
    "# Numerical and One-Hot Coding of Categorical variables "
   ]
  },
  {
   "cell_type": "code",
   "execution_count": 36,
   "metadata": {},
   "outputs": [
    {
     "data": {
      "text/plain": [
       "Item_Identifier               1559\n",
       "Item_Weight                    415\n",
       "Item_Fat_Content                 5\n",
       "Item_Visibility              13006\n",
       "Item_Type                       16\n",
       "Item_MRP                      8052\n",
       "Outlet_Identifier               10\n",
       "Outlet_Establishment_Year        9\n",
       "Outlet_Size                      3\n",
       "Outlet_Location_Type             3\n",
       "Outlet_Type                      4\n",
       "Item_Outlet_Sales             3493\n",
       "source                           2\n",
       "dtype: int64"
      ]
     },
     "execution_count": 36,
     "metadata": {},
     "output_type": "execute_result"
    }
   ],
   "source": [
    "df.nunique()"
   ]
  },
  {
   "cell_type": "code",
   "execution_count": 37,
   "metadata": {},
   "outputs": [],
   "source": [
    "#Import library:\n",
    "from sklearn.preprocessing import LabelEncoder\n",
    "\n",
    "def label_encoding(df):\n",
    "    le = LabelEncoder()\n",
    "    #New variable for outlet\n",
    "    df['Outlet'] = le.fit_transform(df['Outlet_Identifier'])\n",
    "    df['Outlet']\n",
    "    var_mod = ['Item_Fat_Content','Outlet_Location_Type','Outlet_Size','Item_Type_Combined','Outlet_Type','Outlet']\n",
    "    le = LabelEncoder()\n",
    "    for i in var_mod:\n",
    "        df[i] = le.fit_transform(df[i])\n",
    "        \n",
    "    return df    "
   ]
  },
  {
   "cell_type": "code",
   "execution_count": 38,
   "metadata": {},
   "outputs": [],
   "source": [
    "def One_hot_encoding(df):\n",
    "    #One Hot Coding:\n",
    "    df = pd.get_dummies(df, columns=['Item_Fat_Content','Outlet_Location_Type','Outlet_Size','Outlet_Type','Item_Type_Combined','Outlet'],drop_first = True)\n",
    "    \n",
    "    return df"
   ]
  },
  {
   "cell_type": "markdown",
   "metadata": {},
   "source": [
    "# __________"
   ]
  },
  {
   "cell_type": "code",
   "execution_count": 39,
   "metadata": {},
   "outputs": [],
   "source": [
    "def Encoding(df):\n",
    "    \n",
    "    # Label encoding\n",
    "    df = label_encoding(df)\n",
    "    \n",
    "    # #One Hot Coding:\n",
    "    df = One_hot_encoding(df)\n",
    "    \n",
    "    #Created a list remove_cols to remove those columns which doesn't required for Model Building\n",
    "    remove_cols = [\n",
    "        'Item_Identifier',\n",
    "        'Item_Type',\n",
    "        'Outlet_Identifier',\n",
    "        'Outlet_Establishment_Year'\n",
    "    ]\n",
    "    df = df.drop(remove_cols,axis =1)\n",
    "    \n",
    "    return df"
   ]
  },
  {
   "cell_type": "markdown",
   "metadata": {},
   "source": [
    "# _______ "
   ]
  },
  {
   "cell_type": "markdown",
   "metadata": {},
   "source": [
    "# Data Preprocessing"
   ]
  },
  {
   "cell_type": "code",
   "execution_count": 40,
   "metadata": {},
   "outputs": [],
   "source": [
    "def Data_preprocessing(df):\n",
    "    \n",
    "    # Handling Missing Values\n",
    "    df = Handling_missing_values(df)\n",
    "    \n",
    "    # Handling Categorical Data\n",
    "    df = Handling_categorical_data(df)\n",
    "    \n",
    "    # Label and One Hot Encoding\n",
    "    df = Encoding(df)\n",
    "    \n",
    "    return df"
   ]
  },
  {
   "cell_type": "markdown",
   "metadata": {},
   "source": [
    "# Training the Model"
   ]
  },
  {
   "cell_type": "code",
   "execution_count": 41,
   "metadata": {},
   "outputs": [],
   "source": [
    "import xgboost\n",
    "import pickle\n",
    "def Model_training(X,y):\n",
    "    \n",
    "    # Parameter using Hyperparameter Optimisation\n",
    "    model = xgboost.XGBRegressor(base_score=0.5, booster='gbtree', colsample_bylevel=1,\n",
    "             colsample_bynode=1, colsample_bytree=0.4, gamma=0.0, gpu_id=-1,\n",
    "             importance_type='gain', interaction_constraints='',\n",
    "             learning_rate=0.25, max_delta_step=0, max_depth=15,\n",
    "             min_child_weight=1, monotone_constraints='()',\n",
    "             n_estimators=100, n_jobs=0, num_parallel_tree=1, random_state=0,\n",
    "             reg_alpha=0, reg_lambda=1, scale_pos_weight=1, subsample=1,\n",
    "             tree_method='exact', validate_parameters=1, verbosity=None)\n",
    "    # Fitting the model \n",
    "    model.fit(X,y)\n",
    "    \n",
    "    filename = 'finalized_model.pkl'\n",
    "    pickle.dump(model, open(filename, 'wb'))\n",
    "    \n",
    "    return model"
   ]
  },
  {
   "cell_type": "markdown",
   "metadata": {},
   "source": [
    "# Prediction "
   ]
  },
  {
   "cell_type": "code",
   "execution_count": 42,
   "metadata": {},
   "outputs": [],
   "source": [
    "def Prediction(model,X):\n",
    "    #Predicting the Test set results\n",
    "    y_pred = model.predict(X)\n",
    "    \n",
    "    return y_pred"
   ]
  },
  {
   "cell_type": "markdown",
   "metadata": {},
   "source": [
    "# Evaluation"
   ]
  },
  {
   "cell_type": "code",
   "execution_count": 43,
   "metadata": {},
   "outputs": [],
   "source": [
    "from sklearn.metrics import r2_score,mean_squared_error\n",
    "\n",
    "def Evaluation(model,y,y_pred):\n",
    "    \n",
    "    score = r2_score(y,y_pred)\n",
    "    print(\"Score of Training:\",100*score)\n",
    "    print(\"RMSE : %.4g\" % np.sqrt(mean_squared_error(y,y_pred)))\n"
   ]
  },
  {
   "cell_type": "markdown",
   "metadata": {},
   "source": [
    "# Cross Validation"
   ]
  },
  {
   "cell_type": "code",
   "execution_count": 44,
   "metadata": {},
   "outputs": [],
   "source": [
    "from sklearn.metrics import mean_squared_error,make_scorer\n",
    "from sklearn.model_selection import cross_val_score\n",
    "\n",
    "def cross_validation(model,X,y):\n",
    "    #Perform cross-validation:\n",
    "    cv_score = cross_val_score(model,X, y, cv=20, scoring = make_scorer(mean_squared_error))\n",
    "    cv_score = np.sqrt(np.abs(cv_score))\n",
    "\n",
    "    #Print model report:\n",
    "    print(\"\\nModel Report\")\n",
    "    print(\"MAE : %.4g\" % np.sqrt(mean_squared_error(y,y_pred)))\n",
    "    print(\"RMSE : %.4g\" % np.sqrt(mean_squared_error(y,y_pred)))\n",
    "    print(\"CV Score : Mean - %.4g | Max - %.4g\" % (np.mean(cv_score),np.max(cv_score)))"
   ]
  },
  {
   "cell_type": "markdown",
   "metadata": {},
   "source": [
    "# Guide\n",
    "- Data Preprocessing : Run -> Data_preprocessing(df) : Handling_missing_values,Handling Categorical Data,Label and One Hot Encoding,Standardize Data\n",
    "- Training the Model : Run -> Model_training(X,y)\n",
    "- For Prediction : Run -> Prediction(model,X)\n",
    "- For Evaluation : Run -> Evaluation(model,y,y_pred)\n"
   ]
  },
  {
   "cell_type": "markdown",
   "metadata": {},
   "source": [
    "# Training the Model On Training Dataset"
   ]
  },
  {
   "cell_type": "code",
   "execution_count": 45,
   "metadata": {},
   "outputs": [
    {
     "data": {
      "text/html": [
       "<div>\n",
       "<style scoped>\n",
       "    .dataframe tbody tr th:only-of-type {\n",
       "        vertical-align: middle;\n",
       "    }\n",
       "\n",
       "    .dataframe tbody tr th {\n",
       "        vertical-align: top;\n",
       "    }\n",
       "\n",
       "    .dataframe thead th {\n",
       "        text-align: right;\n",
       "    }\n",
       "</style>\n",
       "<table border=\"1\" class=\"dataframe\">\n",
       "  <thead>\n",
       "    <tr style=\"text-align: right;\">\n",
       "      <th></th>\n",
       "      <th>Item_Identifier</th>\n",
       "      <th>Item_Weight</th>\n",
       "      <th>Item_Fat_Content</th>\n",
       "      <th>Item_Visibility</th>\n",
       "      <th>Item_Type</th>\n",
       "      <th>Item_MRP</th>\n",
       "      <th>Outlet_Identifier</th>\n",
       "      <th>Outlet_Establishment_Year</th>\n",
       "      <th>Outlet_Size</th>\n",
       "      <th>Outlet_Location_Type</th>\n",
       "      <th>Outlet_Type</th>\n",
       "      <th>Item_Outlet_Sales</th>\n",
       "      <th>source</th>\n",
       "    </tr>\n",
       "  </thead>\n",
       "  <tbody>\n",
       "    <tr>\n",
       "      <th>0</th>\n",
       "      <td>FDA15</td>\n",
       "      <td>9.30</td>\n",
       "      <td>Low Fat</td>\n",
       "      <td>0.016047</td>\n",
       "      <td>Dairy</td>\n",
       "      <td>249.8092</td>\n",
       "      <td>OUT049</td>\n",
       "      <td>1999</td>\n",
       "      <td>Medium</td>\n",
       "      <td>Tier 1</td>\n",
       "      <td>Supermarket Type1</td>\n",
       "      <td>3735.1380</td>\n",
       "      <td>train</td>\n",
       "    </tr>\n",
       "    <tr>\n",
       "      <th>1</th>\n",
       "      <td>DRC01</td>\n",
       "      <td>5.92</td>\n",
       "      <td>Regular</td>\n",
       "      <td>0.019278</td>\n",
       "      <td>Soft Drinks</td>\n",
       "      <td>48.2692</td>\n",
       "      <td>OUT018</td>\n",
       "      <td>2009</td>\n",
       "      <td>Medium</td>\n",
       "      <td>Tier 3</td>\n",
       "      <td>Supermarket Type2</td>\n",
       "      <td>443.4228</td>\n",
       "      <td>train</td>\n",
       "    </tr>\n",
       "    <tr>\n",
       "      <th>2</th>\n",
       "      <td>FDN15</td>\n",
       "      <td>17.50</td>\n",
       "      <td>Low Fat</td>\n",
       "      <td>0.016760</td>\n",
       "      <td>Meat</td>\n",
       "      <td>141.6180</td>\n",
       "      <td>OUT049</td>\n",
       "      <td>1999</td>\n",
       "      <td>Medium</td>\n",
       "      <td>Tier 1</td>\n",
       "      <td>Supermarket Type1</td>\n",
       "      <td>2097.2700</td>\n",
       "      <td>train</td>\n",
       "    </tr>\n",
       "    <tr>\n",
       "      <th>3</th>\n",
       "      <td>FDX07</td>\n",
       "      <td>19.20</td>\n",
       "      <td>Regular</td>\n",
       "      <td>0.000000</td>\n",
       "      <td>Fruits and Vegetables</td>\n",
       "      <td>182.0950</td>\n",
       "      <td>OUT010</td>\n",
       "      <td>1998</td>\n",
       "      <td>NaN</td>\n",
       "      <td>Tier 3</td>\n",
       "      <td>Grocery Store</td>\n",
       "      <td>732.3800</td>\n",
       "      <td>train</td>\n",
       "    </tr>\n",
       "    <tr>\n",
       "      <th>4</th>\n",
       "      <td>NCD19</td>\n",
       "      <td>8.93</td>\n",
       "      <td>Low Fat</td>\n",
       "      <td>0.000000</td>\n",
       "      <td>Household</td>\n",
       "      <td>53.8614</td>\n",
       "      <td>OUT013</td>\n",
       "      <td>1987</td>\n",
       "      <td>High</td>\n",
       "      <td>Tier 3</td>\n",
       "      <td>Supermarket Type1</td>\n",
       "      <td>994.7052</td>\n",
       "      <td>train</td>\n",
       "    </tr>\n",
       "  </tbody>\n",
       "</table>\n",
       "</div>"
      ],
      "text/plain": [
       "  Item_Identifier  Item_Weight Item_Fat_Content  Item_Visibility  \\\n",
       "0           FDA15         9.30          Low Fat         0.016047   \n",
       "1           DRC01         5.92          Regular         0.019278   \n",
       "2           FDN15        17.50          Low Fat         0.016760   \n",
       "3           FDX07        19.20          Regular         0.000000   \n",
       "4           NCD19         8.93          Low Fat         0.000000   \n",
       "\n",
       "               Item_Type  Item_MRP Outlet_Identifier  \\\n",
       "0                  Dairy  249.8092            OUT049   \n",
       "1            Soft Drinks   48.2692            OUT018   \n",
       "2                   Meat  141.6180            OUT049   \n",
       "3  Fruits and Vegetables  182.0950            OUT010   \n",
       "4              Household   53.8614            OUT013   \n",
       "\n",
       "   Outlet_Establishment_Year Outlet_Size Outlet_Location_Type  \\\n",
       "0                       1999      Medium               Tier 1   \n",
       "1                       2009      Medium               Tier 3   \n",
       "2                       1999      Medium               Tier 1   \n",
       "3                       1998         NaN               Tier 3   \n",
       "4                       1987        High               Tier 3   \n",
       "\n",
       "         Outlet_Type  Item_Outlet_Sales source  \n",
       "0  Supermarket Type1          3735.1380  train  \n",
       "1  Supermarket Type2           443.4228  train  \n",
       "2  Supermarket Type1          2097.2700  train  \n",
       "3      Grocery Store           732.3800  train  \n",
       "4  Supermarket Type1           994.7052  train  "
      ]
     },
     "execution_count": 45,
     "metadata": {},
     "output_type": "execute_result"
    }
   ],
   "source": [
    "df.head()"
   ]
  },
  {
   "cell_type": "code",
   "execution_count": 46,
   "metadata": {},
   "outputs": [
    {
     "data": {
      "text/html": [
       "<div>\n",
       "<style scoped>\n",
       "    .dataframe tbody tr th:only-of-type {\n",
       "        vertical-align: middle;\n",
       "    }\n",
       "\n",
       "    .dataframe tbody tr th {\n",
       "        vertical-align: top;\n",
       "    }\n",
       "\n",
       "    .dataframe thead th {\n",
       "        text-align: right;\n",
       "    }\n",
       "</style>\n",
       "<table border=\"1\" class=\"dataframe\">\n",
       "  <thead>\n",
       "    <tr style=\"text-align: right;\">\n",
       "      <th></th>\n",
       "      <th>Item_Identifier</th>\n",
       "      <th>Item_Weight</th>\n",
       "      <th>Item_Fat_Content</th>\n",
       "      <th>Item_Visibility</th>\n",
       "      <th>Item_Type</th>\n",
       "      <th>Item_MRP</th>\n",
       "      <th>Outlet_Identifier</th>\n",
       "      <th>Outlet_Establishment_Year</th>\n",
       "      <th>Outlet_Size</th>\n",
       "      <th>Outlet_Location_Type</th>\n",
       "      <th>Outlet_Type</th>\n",
       "      <th>Item_Outlet_Sales</th>\n",
       "      <th>source</th>\n",
       "    </tr>\n",
       "  </thead>\n",
       "  <tbody>\n",
       "    <tr>\n",
       "      <th>14199</th>\n",
       "      <td>FDB58</td>\n",
       "      <td>10.5</td>\n",
       "      <td>Regular</td>\n",
       "      <td>0.013496</td>\n",
       "      <td>Snack Foods</td>\n",
       "      <td>141.3154</td>\n",
       "      <td>OUT046</td>\n",
       "      <td>1997</td>\n",
       "      <td>Small</td>\n",
       "      <td>Tier 1</td>\n",
       "      <td>Supermarket Type1</td>\n",
       "      <td>NaN</td>\n",
       "      <td>test</td>\n",
       "    </tr>\n",
       "    <tr>\n",
       "      <th>14200</th>\n",
       "      <td>FDD47</td>\n",
       "      <td>7.6</td>\n",
       "      <td>Regular</td>\n",
       "      <td>0.142991</td>\n",
       "      <td>Starchy Foods</td>\n",
       "      <td>169.1448</td>\n",
       "      <td>OUT018</td>\n",
       "      <td>2009</td>\n",
       "      <td>Medium</td>\n",
       "      <td>Tier 3</td>\n",
       "      <td>Supermarket Type2</td>\n",
       "      <td>NaN</td>\n",
       "      <td>test</td>\n",
       "    </tr>\n",
       "    <tr>\n",
       "      <th>14201</th>\n",
       "      <td>NCO17</td>\n",
       "      <td>10.0</td>\n",
       "      <td>Low Fat</td>\n",
       "      <td>0.073529</td>\n",
       "      <td>Health and Hygiene</td>\n",
       "      <td>118.7440</td>\n",
       "      <td>OUT045</td>\n",
       "      <td>2002</td>\n",
       "      <td>NaN</td>\n",
       "      <td>Tier 2</td>\n",
       "      <td>Supermarket Type1</td>\n",
       "      <td>NaN</td>\n",
       "      <td>test</td>\n",
       "    </tr>\n",
       "    <tr>\n",
       "      <th>14202</th>\n",
       "      <td>FDJ26</td>\n",
       "      <td>15.3</td>\n",
       "      <td>Regular</td>\n",
       "      <td>0.000000</td>\n",
       "      <td>Canned</td>\n",
       "      <td>214.6218</td>\n",
       "      <td>OUT017</td>\n",
       "      <td>2007</td>\n",
       "      <td>NaN</td>\n",
       "      <td>Tier 2</td>\n",
       "      <td>Supermarket Type1</td>\n",
       "      <td>NaN</td>\n",
       "      <td>test</td>\n",
       "    </tr>\n",
       "    <tr>\n",
       "      <th>14203</th>\n",
       "      <td>FDU37</td>\n",
       "      <td>9.5</td>\n",
       "      <td>Regular</td>\n",
       "      <td>0.104720</td>\n",
       "      <td>Canned</td>\n",
       "      <td>79.7960</td>\n",
       "      <td>OUT045</td>\n",
       "      <td>2002</td>\n",
       "      <td>NaN</td>\n",
       "      <td>Tier 2</td>\n",
       "      <td>Supermarket Type1</td>\n",
       "      <td>NaN</td>\n",
       "      <td>test</td>\n",
       "    </tr>\n",
       "  </tbody>\n",
       "</table>\n",
       "</div>"
      ],
      "text/plain": [
       "      Item_Identifier  Item_Weight Item_Fat_Content  Item_Visibility  \\\n",
       "14199           FDB58         10.5          Regular         0.013496   \n",
       "14200           FDD47          7.6          Regular         0.142991   \n",
       "14201           NCO17         10.0          Low Fat         0.073529   \n",
       "14202           FDJ26         15.3          Regular         0.000000   \n",
       "14203           FDU37          9.5          Regular         0.104720   \n",
       "\n",
       "                Item_Type  Item_MRP Outlet_Identifier  \\\n",
       "14199         Snack Foods  141.3154            OUT046   \n",
       "14200       Starchy Foods  169.1448            OUT018   \n",
       "14201  Health and Hygiene  118.7440            OUT045   \n",
       "14202              Canned  214.6218            OUT017   \n",
       "14203              Canned   79.7960            OUT045   \n",
       "\n",
       "       Outlet_Establishment_Year Outlet_Size Outlet_Location_Type  \\\n",
       "14199                       1997       Small               Tier 1   \n",
       "14200                       2009      Medium               Tier 3   \n",
       "14201                       2002         NaN               Tier 2   \n",
       "14202                       2007         NaN               Tier 2   \n",
       "14203                       2002         NaN               Tier 2   \n",
       "\n",
       "             Outlet_Type  Item_Outlet_Sales source  \n",
       "14199  Supermarket Type1                NaN   test  \n",
       "14200  Supermarket Type2                NaN   test  \n",
       "14201  Supermarket Type1                NaN   test  \n",
       "14202  Supermarket Type1                NaN   test  \n",
       "14203  Supermarket Type1                NaN   test  "
      ]
     },
     "execution_count": 46,
     "metadata": {},
     "output_type": "execute_result"
    }
   ],
   "source": [
    "df.tail()"
   ]
  },
  {
   "cell_type": "code",
   "execution_count": 47,
   "metadata": {},
   "outputs": [
    {
     "data": {
      "text/plain": [
       "(14204, 13)"
      ]
     },
     "execution_count": 47,
     "metadata": {},
     "output_type": "execute_result"
    }
   ],
   "source": [
    "df.shape"
   ]
  },
  {
   "cell_type": "code",
   "execution_count": 48,
   "metadata": {},
   "outputs": [
    {
     "name": "stdout",
     "output_type": "stream",
     "text": [
      "Orignal #missing: 2439\n",
      "Final #missing: 0\n",
      "Mode for each Outlet_Type:\n",
      "Outlet_Type Grocery Store Supermarket Type1 Supermarket Type2  \\\n",
      "Outlet_Size         Small             Small            Medium   \n",
      "\n",
      "Outlet_Type Supermarket Type3  \n",
      "Outlet_Size            Medium  \n",
      "\n",
      "Orignal #missing: 4016\n",
      "\n",
      "Final #missing: 0\n",
      "Number of 0 values initially: 879\n",
      "Number of 0 values after modification: 0\n",
      "Food              10201\n",
      "Non-Consumable     2686\n",
      "Drinks             1317\n",
      "Name: Item_Type_Combined, dtype: int64\n",
      "count    14204.000000\n",
      "mean        15.169319\n",
      "std          8.371664\n",
      "min          4.000000\n",
      "25%          9.000000\n",
      "50%         14.000000\n",
      "75%         26.000000\n",
      "max         28.000000\n",
      "Name: Outlet_Years, dtype: float64\n",
      "Original Categories:\n",
      "Low Fat    8485\n",
      "Regular    4824\n",
      "LF          522\n",
      "reg         195\n",
      "low fat     178\n",
      "Name: Item_Fat_Content, dtype: int64\n",
      "\n",
      "Modified Categories:\n",
      "Low Fat    9185\n",
      "Regular    5019\n",
      "Name: Item_Fat_Content, dtype: int64\n",
      "Low Fat       6499\n",
      "Regular       5019\n",
      "Non-Edible    2686\n",
      "Name: Item_Fat_Content, dtype: int64\n"
     ]
    }
   ],
   "source": [
    "df = Data_preprocessing(df)"
   ]
  },
  {
   "cell_type": "code",
   "execution_count": 49,
   "metadata": {},
   "outputs": [
    {
     "data": {
      "text/html": [
       "<div>\n",
       "<style scoped>\n",
       "    .dataframe tbody tr th:only-of-type {\n",
       "        vertical-align: middle;\n",
       "    }\n",
       "\n",
       "    .dataframe tbody tr th {\n",
       "        vertical-align: top;\n",
       "    }\n",
       "\n",
       "    .dataframe thead th {\n",
       "        text-align: right;\n",
       "    }\n",
       "</style>\n",
       "<table border=\"1\" class=\"dataframe\">\n",
       "  <thead>\n",
       "    <tr style=\"text-align: right;\">\n",
       "      <th></th>\n",
       "      <th>Item_Weight</th>\n",
       "      <th>Item_Visibility</th>\n",
       "      <th>Item_MRP</th>\n",
       "      <th>Item_Outlet_Sales</th>\n",
       "      <th>source</th>\n",
       "      <th>Outlet_Years</th>\n",
       "      <th>Item_Fat_Content_1</th>\n",
       "      <th>Item_Fat_Content_2</th>\n",
       "      <th>Outlet_Location_Type_1</th>\n",
       "      <th>Outlet_Location_Type_2</th>\n",
       "      <th>...</th>\n",
       "      <th>Item_Type_Combined_2</th>\n",
       "      <th>Outlet_1</th>\n",
       "      <th>Outlet_2</th>\n",
       "      <th>Outlet_3</th>\n",
       "      <th>Outlet_4</th>\n",
       "      <th>Outlet_5</th>\n",
       "      <th>Outlet_6</th>\n",
       "      <th>Outlet_7</th>\n",
       "      <th>Outlet_8</th>\n",
       "      <th>Outlet_9</th>\n",
       "    </tr>\n",
       "  </thead>\n",
       "  <tbody>\n",
       "    <tr>\n",
       "      <th>0</th>\n",
       "      <td>9.30</td>\n",
       "      <td>0.931078</td>\n",
       "      <td>249.8092</td>\n",
       "      <td>3735.1380</td>\n",
       "      <td>train</td>\n",
       "      <td>14</td>\n",
       "      <td>0</td>\n",
       "      <td>0</td>\n",
       "      <td>0</td>\n",
       "      <td>0</td>\n",
       "      <td>...</td>\n",
       "      <td>0</td>\n",
       "      <td>0</td>\n",
       "      <td>0</td>\n",
       "      <td>0</td>\n",
       "      <td>0</td>\n",
       "      <td>0</td>\n",
       "      <td>0</td>\n",
       "      <td>0</td>\n",
       "      <td>0</td>\n",
       "      <td>1</td>\n",
       "    </tr>\n",
       "    <tr>\n",
       "      <th>1</th>\n",
       "      <td>5.92</td>\n",
       "      <td>0.933420</td>\n",
       "      <td>48.2692</td>\n",
       "      <td>443.4228</td>\n",
       "      <td>train</td>\n",
       "      <td>4</td>\n",
       "      <td>0</td>\n",
       "      <td>1</td>\n",
       "      <td>0</td>\n",
       "      <td>1</td>\n",
       "      <td>...</td>\n",
       "      <td>0</td>\n",
       "      <td>0</td>\n",
       "      <td>0</td>\n",
       "      <td>1</td>\n",
       "      <td>0</td>\n",
       "      <td>0</td>\n",
       "      <td>0</td>\n",
       "      <td>0</td>\n",
       "      <td>0</td>\n",
       "      <td>0</td>\n",
       "    </tr>\n",
       "    <tr>\n",
       "      <th>2</th>\n",
       "      <td>17.50</td>\n",
       "      <td>0.872790</td>\n",
       "      <td>141.6180</td>\n",
       "      <td>2097.2700</td>\n",
       "      <td>train</td>\n",
       "      <td>14</td>\n",
       "      <td>0</td>\n",
       "      <td>0</td>\n",
       "      <td>0</td>\n",
       "      <td>0</td>\n",
       "      <td>...</td>\n",
       "      <td>0</td>\n",
       "      <td>0</td>\n",
       "      <td>0</td>\n",
       "      <td>0</td>\n",
       "      <td>0</td>\n",
       "      <td>0</td>\n",
       "      <td>0</td>\n",
       "      <td>0</td>\n",
       "      <td>0</td>\n",
       "      <td>1</td>\n",
       "    </tr>\n",
       "    <tr>\n",
       "      <th>3</th>\n",
       "      <td>19.20</td>\n",
       "      <td>0.818182</td>\n",
       "      <td>182.0950</td>\n",
       "      <td>732.3800</td>\n",
       "      <td>train</td>\n",
       "      <td>15</td>\n",
       "      <td>0</td>\n",
       "      <td>1</td>\n",
       "      <td>0</td>\n",
       "      <td>1</td>\n",
       "      <td>...</td>\n",
       "      <td>0</td>\n",
       "      <td>0</td>\n",
       "      <td>0</td>\n",
       "      <td>0</td>\n",
       "      <td>0</td>\n",
       "      <td>0</td>\n",
       "      <td>0</td>\n",
       "      <td>0</td>\n",
       "      <td>0</td>\n",
       "      <td>0</td>\n",
       "    </tr>\n",
       "    <tr>\n",
       "      <th>4</th>\n",
       "      <td>8.93</td>\n",
       "      <td>0.750000</td>\n",
       "      <td>53.8614</td>\n",
       "      <td>994.7052</td>\n",
       "      <td>train</td>\n",
       "      <td>26</td>\n",
       "      <td>1</td>\n",
       "      <td>0</td>\n",
       "      <td>0</td>\n",
       "      <td>1</td>\n",
       "      <td>...</td>\n",
       "      <td>1</td>\n",
       "      <td>1</td>\n",
       "      <td>0</td>\n",
       "      <td>0</td>\n",
       "      <td>0</td>\n",
       "      <td>0</td>\n",
       "      <td>0</td>\n",
       "      <td>0</td>\n",
       "      <td>0</td>\n",
       "      <td>0</td>\n",
       "    </tr>\n",
       "  </tbody>\n",
       "</table>\n",
       "<p>5 rows × 26 columns</p>\n",
       "</div>"
      ],
      "text/plain": [
       "   Item_Weight  Item_Visibility  Item_MRP  Item_Outlet_Sales source  \\\n",
       "0         9.30         0.931078  249.8092          3735.1380  train   \n",
       "1         5.92         0.933420   48.2692           443.4228  train   \n",
       "2        17.50         0.872790  141.6180          2097.2700  train   \n",
       "3        19.20         0.818182  182.0950           732.3800  train   \n",
       "4         8.93         0.750000   53.8614           994.7052  train   \n",
       "\n",
       "   Outlet_Years  Item_Fat_Content_1  Item_Fat_Content_2  \\\n",
       "0            14                   0                   0   \n",
       "1             4                   0                   1   \n",
       "2            14                   0                   0   \n",
       "3            15                   0                   1   \n",
       "4            26                   1                   0   \n",
       "\n",
       "   Outlet_Location_Type_1  Outlet_Location_Type_2  ...  Item_Type_Combined_2  \\\n",
       "0                       0                       0  ...                     0   \n",
       "1                       0                       1  ...                     0   \n",
       "2                       0                       0  ...                     0   \n",
       "3                       0                       1  ...                     0   \n",
       "4                       0                       1  ...                     1   \n",
       "\n",
       "   Outlet_1  Outlet_2  Outlet_3  Outlet_4  Outlet_5  Outlet_6  Outlet_7  \\\n",
       "0         0         0         0         0         0         0         0   \n",
       "1         0         0         1         0         0         0         0   \n",
       "2         0         0         0         0         0         0         0   \n",
       "3         0         0         0         0         0         0         0   \n",
       "4         1         0         0         0         0         0         0   \n",
       "\n",
       "   Outlet_8  Outlet_9  \n",
       "0         0         1  \n",
       "1         0         0  \n",
       "2         0         1  \n",
       "3         0         0  \n",
       "4         0         0  \n",
       "\n",
       "[5 rows x 26 columns]"
      ]
     },
     "execution_count": 49,
     "metadata": {},
     "output_type": "execute_result"
    }
   ],
   "source": [
    "df.head()"
   ]
  },
  {
   "cell_type": "code",
   "execution_count": 50,
   "metadata": {},
   "outputs": [
    {
     "name": "stdout",
     "output_type": "stream",
     "text": [
      "Item_Outlet_Sales         1.000000\n",
      "Item_MRP                  0.567574\n",
      "Outlet_5                  0.311192\n",
      "Outlet_Type_3             0.311192\n",
      "Outlet_Size_1             0.204701\n",
      "Outlet_Type_1             0.108765\n",
      "Outlet_Location_Type_1    0.058261\n",
      "Outlet_6                  0.052823\n",
      "Outlet_Years              0.049135\n",
      "Outlet_Location_Type_2    0.046376\n",
      "Outlet_9                  0.034264\n",
      "Outlet_2                  0.032610\n",
      "Item_Type_Combined_1      0.031905\n",
      "Outlet_1                  0.024170\n",
      "Outlet_8                  0.019803\n",
      "Item_Fat_Content_2        0.018719\n",
      "Item_Weight               0.013261\n",
      "Outlet_7                  0.002274\n",
      "Item_Type_Combined_2     -0.010861\n",
      "Item_Fat_Content_1       -0.010861\n",
      "Outlet_3                 -0.038059\n",
      "Outlet_Type_2            -0.038059\n",
      "Outlet_Size_2            -0.208912\n",
      "Outlet_4                 -0.277250\n",
      "Item_Visibility          -0.384926\n",
      "Name: Item_Outlet_Sales, dtype: float64\n"
     ]
    }
   ],
   "source": [
    "corr = df.corr()\n",
    "\n",
    "print (corr['Item_Outlet_Sales'].sort_values(ascending=False))"
   ]
  },
  {
   "cell_type": "code",
   "execution_count": 51,
   "metadata": {},
   "outputs": [
    {
     "name": "stderr",
     "output_type": "stream",
     "text": [
      "c:\\users\\hp\\appdata\\local\\programs\\python\\python38\\lib\\site-packages\\pandas\\core\\frame.py:4160: SettingWithCopyWarning: \n",
      "A value is trying to be set on a copy of a slice from a DataFrame\n",
      "\n",
      "See the caveats in the documentation: https://pandas.pydata.org/pandas-docs/stable/user_guide/indexing.html#returning-a-view-versus-a-copy\n",
      "  return super().drop(\n"
     ]
    }
   ],
   "source": [
    "#Divide into test and train:\n",
    "train = df.loc[df['source']==\"train\"]\n",
    "test = df.loc[df['source']==\"test\"]\n",
    "\n",
    "#Drop unnecessary columns:\n",
    "test.drop(['Item_Outlet_Sales','source'],axis=1,inplace=True)\n",
    "train.drop(['source'],axis=1,inplace=True)\n",
    "\n",
    "#Export files as modified versions:\n",
    "train.to_csv(\"train_modified.csv\",index=False)\n",
    "test.to_csv(\"test_modified.csv\",index=False)"
   ]
  },
  {
   "cell_type": "markdown",
   "metadata": {},
   "source": [
    "### Training Data"
   ]
  },
  {
   "cell_type": "code",
   "execution_count": 52,
   "metadata": {},
   "outputs": [
    {
     "data": {
      "text/html": [
       "<div>\n",
       "<style scoped>\n",
       "    .dataframe tbody tr th:only-of-type {\n",
       "        vertical-align: middle;\n",
       "    }\n",
       "\n",
       "    .dataframe tbody tr th {\n",
       "        vertical-align: top;\n",
       "    }\n",
       "\n",
       "    .dataframe thead th {\n",
       "        text-align: right;\n",
       "    }\n",
       "</style>\n",
       "<table border=\"1\" class=\"dataframe\">\n",
       "  <thead>\n",
       "    <tr style=\"text-align: right;\">\n",
       "      <th></th>\n",
       "      <th>Item_Weight</th>\n",
       "      <th>Item_Visibility</th>\n",
       "      <th>Item_MRP</th>\n",
       "      <th>Item_Outlet_Sales</th>\n",
       "      <th>Outlet_Years</th>\n",
       "      <th>Item_Fat_Content_1</th>\n",
       "      <th>Item_Fat_Content_2</th>\n",
       "      <th>Outlet_Location_Type_1</th>\n",
       "      <th>Outlet_Location_Type_2</th>\n",
       "      <th>Outlet_Size_1</th>\n",
       "      <th>...</th>\n",
       "      <th>Item_Type_Combined_2</th>\n",
       "      <th>Outlet_1</th>\n",
       "      <th>Outlet_2</th>\n",
       "      <th>Outlet_3</th>\n",
       "      <th>Outlet_4</th>\n",
       "      <th>Outlet_5</th>\n",
       "      <th>Outlet_6</th>\n",
       "      <th>Outlet_7</th>\n",
       "      <th>Outlet_8</th>\n",
       "      <th>Outlet_9</th>\n",
       "    </tr>\n",
       "  </thead>\n",
       "  <tbody>\n",
       "    <tr>\n",
       "      <th>0</th>\n",
       "      <td>9.30</td>\n",
       "      <td>0.931078</td>\n",
       "      <td>249.8092</td>\n",
       "      <td>3735.1380</td>\n",
       "      <td>14</td>\n",
       "      <td>0</td>\n",
       "      <td>0</td>\n",
       "      <td>0</td>\n",
       "      <td>0</td>\n",
       "      <td>1</td>\n",
       "      <td>...</td>\n",
       "      <td>0</td>\n",
       "      <td>0</td>\n",
       "      <td>0</td>\n",
       "      <td>0</td>\n",
       "      <td>0</td>\n",
       "      <td>0</td>\n",
       "      <td>0</td>\n",
       "      <td>0</td>\n",
       "      <td>0</td>\n",
       "      <td>1</td>\n",
       "    </tr>\n",
       "    <tr>\n",
       "      <th>1</th>\n",
       "      <td>5.92</td>\n",
       "      <td>0.933420</td>\n",
       "      <td>48.2692</td>\n",
       "      <td>443.4228</td>\n",
       "      <td>4</td>\n",
       "      <td>0</td>\n",
       "      <td>1</td>\n",
       "      <td>0</td>\n",
       "      <td>1</td>\n",
       "      <td>1</td>\n",
       "      <td>...</td>\n",
       "      <td>0</td>\n",
       "      <td>0</td>\n",
       "      <td>0</td>\n",
       "      <td>1</td>\n",
       "      <td>0</td>\n",
       "      <td>0</td>\n",
       "      <td>0</td>\n",
       "      <td>0</td>\n",
       "      <td>0</td>\n",
       "      <td>0</td>\n",
       "    </tr>\n",
       "    <tr>\n",
       "      <th>2</th>\n",
       "      <td>17.50</td>\n",
       "      <td>0.872790</td>\n",
       "      <td>141.6180</td>\n",
       "      <td>2097.2700</td>\n",
       "      <td>14</td>\n",
       "      <td>0</td>\n",
       "      <td>0</td>\n",
       "      <td>0</td>\n",
       "      <td>0</td>\n",
       "      <td>1</td>\n",
       "      <td>...</td>\n",
       "      <td>0</td>\n",
       "      <td>0</td>\n",
       "      <td>0</td>\n",
       "      <td>0</td>\n",
       "      <td>0</td>\n",
       "      <td>0</td>\n",
       "      <td>0</td>\n",
       "      <td>0</td>\n",
       "      <td>0</td>\n",
       "      <td>1</td>\n",
       "    </tr>\n",
       "    <tr>\n",
       "      <th>3</th>\n",
       "      <td>19.20</td>\n",
       "      <td>0.818182</td>\n",
       "      <td>182.0950</td>\n",
       "      <td>732.3800</td>\n",
       "      <td>15</td>\n",
       "      <td>0</td>\n",
       "      <td>1</td>\n",
       "      <td>0</td>\n",
       "      <td>1</td>\n",
       "      <td>0</td>\n",
       "      <td>...</td>\n",
       "      <td>0</td>\n",
       "      <td>0</td>\n",
       "      <td>0</td>\n",
       "      <td>0</td>\n",
       "      <td>0</td>\n",
       "      <td>0</td>\n",
       "      <td>0</td>\n",
       "      <td>0</td>\n",
       "      <td>0</td>\n",
       "      <td>0</td>\n",
       "    </tr>\n",
       "    <tr>\n",
       "      <th>4</th>\n",
       "      <td>8.93</td>\n",
       "      <td>0.750000</td>\n",
       "      <td>53.8614</td>\n",
       "      <td>994.7052</td>\n",
       "      <td>26</td>\n",
       "      <td>1</td>\n",
       "      <td>0</td>\n",
       "      <td>0</td>\n",
       "      <td>1</td>\n",
       "      <td>0</td>\n",
       "      <td>...</td>\n",
       "      <td>1</td>\n",
       "      <td>1</td>\n",
       "      <td>0</td>\n",
       "      <td>0</td>\n",
       "      <td>0</td>\n",
       "      <td>0</td>\n",
       "      <td>0</td>\n",
       "      <td>0</td>\n",
       "      <td>0</td>\n",
       "      <td>0</td>\n",
       "    </tr>\n",
       "  </tbody>\n",
       "</table>\n",
       "<p>5 rows × 25 columns</p>\n",
       "</div>"
      ],
      "text/plain": [
       "   Item_Weight  Item_Visibility  Item_MRP  Item_Outlet_Sales  Outlet_Years  \\\n",
       "0         9.30         0.931078  249.8092          3735.1380            14   \n",
       "1         5.92         0.933420   48.2692           443.4228             4   \n",
       "2        17.50         0.872790  141.6180          2097.2700            14   \n",
       "3        19.20         0.818182  182.0950           732.3800            15   \n",
       "4         8.93         0.750000   53.8614           994.7052            26   \n",
       "\n",
       "   Item_Fat_Content_1  Item_Fat_Content_2  Outlet_Location_Type_1  \\\n",
       "0                   0                   0                       0   \n",
       "1                   0                   1                       0   \n",
       "2                   0                   0                       0   \n",
       "3                   0                   1                       0   \n",
       "4                   1                   0                       0   \n",
       "\n",
       "   Outlet_Location_Type_2  Outlet_Size_1  ...  Item_Type_Combined_2  Outlet_1  \\\n",
       "0                       0              1  ...                     0         0   \n",
       "1                       1              1  ...                     0         0   \n",
       "2                       0              1  ...                     0         0   \n",
       "3                       1              0  ...                     0         0   \n",
       "4                       1              0  ...                     1         1   \n",
       "\n",
       "   Outlet_2  Outlet_3  Outlet_4  Outlet_5  Outlet_6  Outlet_7  Outlet_8  \\\n",
       "0         0         0         0         0         0         0         0   \n",
       "1         0         1         0         0         0         0         0   \n",
       "2         0         0         0         0         0         0         0   \n",
       "3         0         0         0         0         0         0         0   \n",
       "4         0         0         0         0         0         0         0   \n",
       "\n",
       "   Outlet_9  \n",
       "0         1  \n",
       "1         0  \n",
       "2         1  \n",
       "3         0  \n",
       "4         0  \n",
       "\n",
       "[5 rows x 25 columns]"
      ]
     },
     "execution_count": 52,
     "metadata": {},
     "output_type": "execute_result"
    }
   ],
   "source": [
    "#Read files:\n",
    "df = pd.read_csv(\"train_modified.csv\")\n",
    "df.head()"
   ]
  },
  {
   "cell_type": "code",
   "execution_count": 53,
   "metadata": {},
   "outputs": [],
   "source": [
    "y = df.Item_Outlet_Sales.values\n",
    "X = df.drop('Item_Outlet_Sales',axis = 1)"
   ]
  },
  {
   "cell_type": "code",
   "execution_count": 54,
   "metadata": {},
   "outputs": [
    {
     "data": {
      "text/plain": [
       "Index(['Item_Weight', 'Item_Visibility', 'Item_MRP', 'Outlet_Years',\n",
       "       'Item_Fat_Content_1', 'Item_Fat_Content_2', 'Outlet_Location_Type_1',\n",
       "       'Outlet_Location_Type_2', 'Outlet_Size_1', 'Outlet_Size_2',\n",
       "       'Outlet_Type_1', 'Outlet_Type_2', 'Outlet_Type_3',\n",
       "       'Item_Type_Combined_1', 'Item_Type_Combined_2', 'Outlet_1', 'Outlet_2',\n",
       "       'Outlet_3', 'Outlet_4', 'Outlet_5', 'Outlet_6', 'Outlet_7', 'Outlet_8',\n",
       "       'Outlet_9'],\n",
       "      dtype='object')"
      ]
     },
     "execution_count": 54,
     "metadata": {},
     "output_type": "execute_result"
    }
   ],
   "source": [
    "X.columns"
   ]
  },
  {
   "cell_type": "code",
   "execution_count": 55,
   "metadata": {},
   "outputs": [],
   "source": [
    "model = Model_training(X,y)"
   ]
  },
  {
   "cell_type": "code",
   "execution_count": 56,
   "metadata": {},
   "outputs": [],
   "source": [
    "y_pred = Prediction(model,X)"
   ]
  },
  {
   "cell_type": "code",
   "execution_count": 57,
   "metadata": {},
   "outputs": [
    {
     "name": "stdout",
     "output_type": "stream",
     "text": [
      "Score of Training: 99.46753835057089\n",
      "RMSE : 124.5\n"
     ]
    }
   ],
   "source": [
    "Evaluation(model,y,y_pred)"
   ]
  },
  {
   "cell_type": "code",
   "execution_count": 58,
   "metadata": {},
   "outputs": [
    {
     "name": "stdout",
     "output_type": "stream",
     "text": [
      "\n",
      "Model Report\n",
      "MAE : 124.5\n",
      "RMSE : 124.5\n",
      "CV Score : Mean - 1250 | Max - 1393\n"
     ]
    }
   ],
   "source": [
    "cross_validation(model,X,y)"
   ]
  },
  {
   "cell_type": "markdown",
   "metadata": {},
   "source": [
    "# Testing the Model On Test set"
   ]
  },
  {
   "cell_type": "code",
   "execution_count": 59,
   "metadata": {},
   "outputs": [
    {
     "data": {
      "text/html": [
       "<div>\n",
       "<style scoped>\n",
       "    .dataframe tbody tr th:only-of-type {\n",
       "        vertical-align: middle;\n",
       "    }\n",
       "\n",
       "    .dataframe tbody tr th {\n",
       "        vertical-align: top;\n",
       "    }\n",
       "\n",
       "    .dataframe thead th {\n",
       "        text-align: right;\n",
       "    }\n",
       "</style>\n",
       "<table border=\"1\" class=\"dataframe\">\n",
       "  <thead>\n",
       "    <tr style=\"text-align: right;\">\n",
       "      <th></th>\n",
       "      <th>Item_Weight</th>\n",
       "      <th>Item_Visibility</th>\n",
       "      <th>Item_MRP</th>\n",
       "      <th>Outlet_Years</th>\n",
       "      <th>Item_Fat_Content_1</th>\n",
       "      <th>Item_Fat_Content_2</th>\n",
       "      <th>Outlet_Location_Type_1</th>\n",
       "      <th>Outlet_Location_Type_2</th>\n",
       "      <th>Outlet_Size_1</th>\n",
       "      <th>Outlet_Size_2</th>\n",
       "      <th>...</th>\n",
       "      <th>Item_Type_Combined_2</th>\n",
       "      <th>Outlet_1</th>\n",
       "      <th>Outlet_2</th>\n",
       "      <th>Outlet_3</th>\n",
       "      <th>Outlet_4</th>\n",
       "      <th>Outlet_5</th>\n",
       "      <th>Outlet_6</th>\n",
       "      <th>Outlet_7</th>\n",
       "      <th>Outlet_8</th>\n",
       "      <th>Outlet_9</th>\n",
       "    </tr>\n",
       "  </thead>\n",
       "  <tbody>\n",
       "    <tr>\n",
       "      <th>0</th>\n",
       "      <td>20.750</td>\n",
       "      <td>0.926273</td>\n",
       "      <td>107.8622</td>\n",
       "      <td>14</td>\n",
       "      <td>0</td>\n",
       "      <td>0</td>\n",
       "      <td>0</td>\n",
       "      <td>0</td>\n",
       "      <td>1</td>\n",
       "      <td>0</td>\n",
       "      <td>...</td>\n",
       "      <td>0</td>\n",
       "      <td>0</td>\n",
       "      <td>0</td>\n",
       "      <td>0</td>\n",
       "      <td>0</td>\n",
       "      <td>0</td>\n",
       "      <td>0</td>\n",
       "      <td>0</td>\n",
       "      <td>0</td>\n",
       "      <td>1</td>\n",
       "    </tr>\n",
       "    <tr>\n",
       "      <th>1</th>\n",
       "      <td>8.300</td>\n",
       "      <td>1.017280</td>\n",
       "      <td>87.3198</td>\n",
       "      <td>6</td>\n",
       "      <td>0</td>\n",
       "      <td>1</td>\n",
       "      <td>1</td>\n",
       "      <td>0</td>\n",
       "      <td>0</td>\n",
       "      <td>1</td>\n",
       "      <td>...</td>\n",
       "      <td>0</td>\n",
       "      <td>0</td>\n",
       "      <td>1</td>\n",
       "      <td>0</td>\n",
       "      <td>0</td>\n",
       "      <td>0</td>\n",
       "      <td>0</td>\n",
       "      <td>0</td>\n",
       "      <td>0</td>\n",
       "      <td>0</td>\n",
       "    </tr>\n",
       "    <tr>\n",
       "      <th>2</th>\n",
       "      <td>14.600</td>\n",
       "      <td>1.561694</td>\n",
       "      <td>241.7538</td>\n",
       "      <td>15</td>\n",
       "      <td>1</td>\n",
       "      <td>0</td>\n",
       "      <td>0</td>\n",
       "      <td>1</td>\n",
       "      <td>0</td>\n",
       "      <td>1</td>\n",
       "      <td>...</td>\n",
       "      <td>1</td>\n",
       "      <td>0</td>\n",
       "      <td>0</td>\n",
       "      <td>0</td>\n",
       "      <td>0</td>\n",
       "      <td>0</td>\n",
       "      <td>0</td>\n",
       "      <td>0</td>\n",
       "      <td>0</td>\n",
       "      <td>0</td>\n",
       "    </tr>\n",
       "    <tr>\n",
       "      <th>3</th>\n",
       "      <td>7.315</td>\n",
       "      <td>1.056745</td>\n",
       "      <td>155.0340</td>\n",
       "      <td>6</td>\n",
       "      <td>0</td>\n",
       "      <td>0</td>\n",
       "      <td>1</td>\n",
       "      <td>0</td>\n",
       "      <td>0</td>\n",
       "      <td>1</td>\n",
       "      <td>...</td>\n",
       "      <td>0</td>\n",
       "      <td>0</td>\n",
       "      <td>1</td>\n",
       "      <td>0</td>\n",
       "      <td>0</td>\n",
       "      <td>0</td>\n",
       "      <td>0</td>\n",
       "      <td>0</td>\n",
       "      <td>0</td>\n",
       "      <td>0</td>\n",
       "    </tr>\n",
       "    <tr>\n",
       "      <th>4</th>\n",
       "      <td>13.600</td>\n",
       "      <td>0.917824</td>\n",
       "      <td>234.2300</td>\n",
       "      <td>28</td>\n",
       "      <td>0</td>\n",
       "      <td>1</td>\n",
       "      <td>0</td>\n",
       "      <td>1</td>\n",
       "      <td>1</td>\n",
       "      <td>0</td>\n",
       "      <td>...</td>\n",
       "      <td>0</td>\n",
       "      <td>0</td>\n",
       "      <td>0</td>\n",
       "      <td>0</td>\n",
       "      <td>0</td>\n",
       "      <td>1</td>\n",
       "      <td>0</td>\n",
       "      <td>0</td>\n",
       "      <td>0</td>\n",
       "      <td>0</td>\n",
       "    </tr>\n",
       "  </tbody>\n",
       "</table>\n",
       "<p>5 rows × 24 columns</p>\n",
       "</div>"
      ],
      "text/plain": [
       "   Item_Weight  Item_Visibility  Item_MRP  Outlet_Years  Item_Fat_Content_1  \\\n",
       "0       20.750         0.926273  107.8622            14                   0   \n",
       "1        8.300         1.017280   87.3198             6                   0   \n",
       "2       14.600         1.561694  241.7538            15                   1   \n",
       "3        7.315         1.056745  155.0340             6                   0   \n",
       "4       13.600         0.917824  234.2300            28                   0   \n",
       "\n",
       "   Item_Fat_Content_2  Outlet_Location_Type_1  Outlet_Location_Type_2  \\\n",
       "0                   0                       0                       0   \n",
       "1                   1                       1                       0   \n",
       "2                   0                       0                       1   \n",
       "3                   0                       1                       0   \n",
       "4                   1                       0                       1   \n",
       "\n",
       "   Outlet_Size_1  Outlet_Size_2  ...  Item_Type_Combined_2  Outlet_1  \\\n",
       "0              1              0  ...                     0         0   \n",
       "1              0              1  ...                     0         0   \n",
       "2              0              1  ...                     1         0   \n",
       "3              0              1  ...                     0         0   \n",
       "4              1              0  ...                     0         0   \n",
       "\n",
       "   Outlet_2  Outlet_3  Outlet_4  Outlet_5  Outlet_6  Outlet_7  Outlet_8  \\\n",
       "0         0         0         0         0         0         0         0   \n",
       "1         1         0         0         0         0         0         0   \n",
       "2         0         0         0         0         0         0         0   \n",
       "3         1         0         0         0         0         0         0   \n",
       "4         0         0         0         1         0         0         0   \n",
       "\n",
       "   Outlet_9  \n",
       "0         1  \n",
       "1         0  \n",
       "2         0  \n",
       "3         0  \n",
       "4         0  \n",
       "\n",
       "[5 rows x 24 columns]"
      ]
     },
     "execution_count": 59,
     "metadata": {},
     "output_type": "execute_result"
    }
   ],
   "source": [
    "#Read files:\n",
    "test = pd.read_csv(\"test_modified.csv\")\n",
    "test.head()"
   ]
  },
  {
   "cell_type": "code",
   "execution_count": 60,
   "metadata": {},
   "outputs": [
    {
     "data": {
      "text/plain": [
       "(5681, 24)"
      ]
     },
     "execution_count": 60,
     "metadata": {},
     "output_type": "execute_result"
    }
   ],
   "source": [
    "test.shape"
   ]
  },
  {
   "cell_type": "code",
   "execution_count": 61,
   "metadata": {},
   "outputs": [
    {
     "data": {
      "text/plain": [
       "Index(['Item_Weight', 'Item_Visibility', 'Item_MRP', 'Outlet_Years',\n",
       "       'Item_Fat_Content_1', 'Item_Fat_Content_2', 'Outlet_Location_Type_1',\n",
       "       'Outlet_Location_Type_2', 'Outlet_Size_1', 'Outlet_Size_2',\n",
       "       'Outlet_Type_1', 'Outlet_Type_2', 'Outlet_Type_3',\n",
       "       'Item_Type_Combined_1', 'Item_Type_Combined_2', 'Outlet_1', 'Outlet_2',\n",
       "       'Outlet_3', 'Outlet_4', 'Outlet_5', 'Outlet_6', 'Outlet_7', 'Outlet_8',\n",
       "       'Outlet_9'],\n",
       "      dtype='object')"
      ]
     },
     "execution_count": 61,
     "metadata": {},
     "output_type": "execute_result"
    }
   ],
   "source": [
    "test.columns"
   ]
  },
  {
   "cell_type": "code",
   "execution_count": 62,
   "metadata": {},
   "outputs": [
    {
     "name": "stdout",
     "output_type": "stream",
     "text": [
      "<class 'pandas.core.frame.DataFrame'>\n",
      "RangeIndex: 5681 entries, 0 to 5680\n",
      "Data columns (total 24 columns):\n",
      " #   Column                  Non-Null Count  Dtype  \n",
      "---  ------                  --------------  -----  \n",
      " 0   Item_Weight             5681 non-null   float64\n",
      " 1   Item_Visibility         5681 non-null   float64\n",
      " 2   Item_MRP                5681 non-null   float64\n",
      " 3   Outlet_Years            5681 non-null   int64  \n",
      " 4   Item_Fat_Content_1      5681 non-null   int64  \n",
      " 5   Item_Fat_Content_2      5681 non-null   int64  \n",
      " 6   Outlet_Location_Type_1  5681 non-null   int64  \n",
      " 7   Outlet_Location_Type_2  5681 non-null   int64  \n",
      " 8   Outlet_Size_1           5681 non-null   int64  \n",
      " 9   Outlet_Size_2           5681 non-null   int64  \n",
      " 10  Outlet_Type_1           5681 non-null   int64  \n",
      " 11  Outlet_Type_2           5681 non-null   int64  \n",
      " 12  Outlet_Type_3           5681 non-null   int64  \n",
      " 13  Item_Type_Combined_1    5681 non-null   int64  \n",
      " 14  Item_Type_Combined_2    5681 non-null   int64  \n",
      " 15  Outlet_1                5681 non-null   int64  \n",
      " 16  Outlet_2                5681 non-null   int64  \n",
      " 17  Outlet_3                5681 non-null   int64  \n",
      " 18  Outlet_4                5681 non-null   int64  \n",
      " 19  Outlet_5                5681 non-null   int64  \n",
      " 20  Outlet_6                5681 non-null   int64  \n",
      " 21  Outlet_7                5681 non-null   int64  \n",
      " 22  Outlet_8                5681 non-null   int64  \n",
      " 23  Outlet_9                5681 non-null   int64  \n",
      "dtypes: float64(3), int64(21)\n",
      "memory usage: 1.0 MB\n"
     ]
    }
   ],
   "source": [
    "test.info()"
   ]
  },
  {
   "cell_type": "code",
   "execution_count": 63,
   "metadata": {},
   "outputs": [
    {
     "data": {
      "text/plain": [
       "Item_Weight               0\n",
       "Item_Visibility           0\n",
       "Item_MRP                  0\n",
       "Outlet_Years              0\n",
       "Item_Fat_Content_1        0\n",
       "Item_Fat_Content_2        0\n",
       "Outlet_Location_Type_1    0\n",
       "Outlet_Location_Type_2    0\n",
       "Outlet_Size_1             0\n",
       "Outlet_Size_2             0\n",
       "Outlet_Type_1             0\n",
       "Outlet_Type_2             0\n",
       "Outlet_Type_3             0\n",
       "Item_Type_Combined_1      0\n",
       "Item_Type_Combined_2      0\n",
       "Outlet_1                  0\n",
       "Outlet_2                  0\n",
       "Outlet_3                  0\n",
       "Outlet_4                  0\n",
       "Outlet_5                  0\n",
       "Outlet_6                  0\n",
       "Outlet_7                  0\n",
       "Outlet_8                  0\n",
       "Outlet_9                  0\n",
       "dtype: int64"
      ]
     },
     "execution_count": 63,
     "metadata": {},
     "output_type": "execute_result"
    }
   ],
   "source": [
    "test.isna().sum()"
   ]
  },
  {
   "cell_type": "code",
   "execution_count": 64,
   "metadata": {},
   "outputs": [
    {
     "data": {
      "text/plain": [
       "Item_Weight                535\n",
       "Item_Visibility           5357\n",
       "Item_MRP                  4402\n",
       "Outlet_Years                 9\n",
       "Item_Fat_Content_1           2\n",
       "Item_Fat_Content_2           2\n",
       "Outlet_Location_Type_1       2\n",
       "Outlet_Location_Type_2       2\n",
       "Outlet_Size_1                2\n",
       "Outlet_Size_2                2\n",
       "Outlet_Type_1                2\n",
       "Outlet_Type_2                2\n",
       "Outlet_Type_3                2\n",
       "Item_Type_Combined_1         2\n",
       "Item_Type_Combined_2         2\n",
       "Outlet_1                     2\n",
       "Outlet_2                     2\n",
       "Outlet_3                     2\n",
       "Outlet_4                     2\n",
       "Outlet_5                     2\n",
       "Outlet_6                     2\n",
       "Outlet_7                     2\n",
       "Outlet_8                     2\n",
       "Outlet_9                     2\n",
       "dtype: int64"
      ]
     },
     "execution_count": 64,
     "metadata": {},
     "output_type": "execute_result"
    }
   ],
   "source": [
    "test.nunique()"
   ]
  },
  {
   "cell_type": "code",
   "execution_count": 65,
   "metadata": {},
   "outputs": [
    {
     "data": {
      "text/plain": [
       "array([1006.1222 , 1047.303  ,  707.81006, ..., 2579.711  , 3978.505  ,\n",
       "       1002.1349 ], dtype=float32)"
      ]
     },
     "execution_count": 65,
     "metadata": {},
     "output_type": "execute_result"
    }
   ],
   "source": [
    "y_pred = Prediction(model,test)\n",
    "y_pred"
   ]
  },
  {
   "cell_type": "code",
   "execution_count": 66,
   "metadata": {},
   "outputs": [
    {
     "data": {
      "text/html": [
       "<div>\n",
       "<style scoped>\n",
       "    .dataframe tbody tr th:only-of-type {\n",
       "        vertical-align: middle;\n",
       "    }\n",
       "\n",
       "    .dataframe tbody tr th {\n",
       "        vertical-align: top;\n",
       "    }\n",
       "\n",
       "    .dataframe thead th {\n",
       "        text-align: right;\n",
       "    }\n",
       "</style>\n",
       "<table border=\"1\" class=\"dataframe\">\n",
       "  <thead>\n",
       "    <tr style=\"text-align: right;\">\n",
       "      <th></th>\n",
       "      <th>Item_Weight</th>\n",
       "      <th>Item_Visibility</th>\n",
       "      <th>Item_MRP</th>\n",
       "      <th>Outlet_Years</th>\n",
       "      <th>Item_Fat_Content_1</th>\n",
       "      <th>Item_Fat_Content_2</th>\n",
       "      <th>Outlet_Location_Type_1</th>\n",
       "      <th>Outlet_Location_Type_2</th>\n",
       "      <th>Outlet_Size_1</th>\n",
       "      <th>Outlet_Size_2</th>\n",
       "      <th>...</th>\n",
       "      <th>Outlet_1</th>\n",
       "      <th>Outlet_2</th>\n",
       "      <th>Outlet_3</th>\n",
       "      <th>Outlet_4</th>\n",
       "      <th>Outlet_5</th>\n",
       "      <th>Outlet_6</th>\n",
       "      <th>Outlet_7</th>\n",
       "      <th>Outlet_8</th>\n",
       "      <th>Outlet_9</th>\n",
       "      <th>Item_Outlet_Sales</th>\n",
       "    </tr>\n",
       "  </thead>\n",
       "  <tbody>\n",
       "    <tr>\n",
       "      <th>0</th>\n",
       "      <td>20.750</td>\n",
       "      <td>0.926273</td>\n",
       "      <td>107.8622</td>\n",
       "      <td>14</td>\n",
       "      <td>0</td>\n",
       "      <td>0</td>\n",
       "      <td>0</td>\n",
       "      <td>0</td>\n",
       "      <td>1</td>\n",
       "      <td>0</td>\n",
       "      <td>...</td>\n",
       "      <td>0</td>\n",
       "      <td>0</td>\n",
       "      <td>0</td>\n",
       "      <td>0</td>\n",
       "      <td>0</td>\n",
       "      <td>0</td>\n",
       "      <td>0</td>\n",
       "      <td>0</td>\n",
       "      <td>1</td>\n",
       "      <td>1006.122192</td>\n",
       "    </tr>\n",
       "    <tr>\n",
       "      <th>1</th>\n",
       "      <td>8.300</td>\n",
       "      <td>1.017280</td>\n",
       "      <td>87.3198</td>\n",
       "      <td>6</td>\n",
       "      <td>0</td>\n",
       "      <td>1</td>\n",
       "      <td>1</td>\n",
       "      <td>0</td>\n",
       "      <td>0</td>\n",
       "      <td>1</td>\n",
       "      <td>...</td>\n",
       "      <td>0</td>\n",
       "      <td>1</td>\n",
       "      <td>0</td>\n",
       "      <td>0</td>\n",
       "      <td>0</td>\n",
       "      <td>0</td>\n",
       "      <td>0</td>\n",
       "      <td>0</td>\n",
       "      <td>0</td>\n",
       "      <td>1047.302979</td>\n",
       "    </tr>\n",
       "    <tr>\n",
       "      <th>2</th>\n",
       "      <td>14.600</td>\n",
       "      <td>1.561694</td>\n",
       "      <td>241.7538</td>\n",
       "      <td>15</td>\n",
       "      <td>1</td>\n",
       "      <td>0</td>\n",
       "      <td>0</td>\n",
       "      <td>1</td>\n",
       "      <td>0</td>\n",
       "      <td>1</td>\n",
       "      <td>...</td>\n",
       "      <td>0</td>\n",
       "      <td>0</td>\n",
       "      <td>0</td>\n",
       "      <td>0</td>\n",
       "      <td>0</td>\n",
       "      <td>0</td>\n",
       "      <td>0</td>\n",
       "      <td>0</td>\n",
       "      <td>0</td>\n",
       "      <td>707.810059</td>\n",
       "    </tr>\n",
       "    <tr>\n",
       "      <th>3</th>\n",
       "      <td>7.315</td>\n",
       "      <td>1.056745</td>\n",
       "      <td>155.0340</td>\n",
       "      <td>6</td>\n",
       "      <td>0</td>\n",
       "      <td>0</td>\n",
       "      <td>1</td>\n",
       "      <td>0</td>\n",
       "      <td>0</td>\n",
       "      <td>1</td>\n",
       "      <td>...</td>\n",
       "      <td>0</td>\n",
       "      <td>1</td>\n",
       "      <td>0</td>\n",
       "      <td>0</td>\n",
       "      <td>0</td>\n",
       "      <td>0</td>\n",
       "      <td>0</td>\n",
       "      <td>0</td>\n",
       "      <td>0</td>\n",
       "      <td>2213.698486</td>\n",
       "    </tr>\n",
       "    <tr>\n",
       "      <th>4</th>\n",
       "      <td>13.600</td>\n",
       "      <td>0.917824</td>\n",
       "      <td>234.2300</td>\n",
       "      <td>28</td>\n",
       "      <td>0</td>\n",
       "      <td>1</td>\n",
       "      <td>0</td>\n",
       "      <td>1</td>\n",
       "      <td>1</td>\n",
       "      <td>0</td>\n",
       "      <td>...</td>\n",
       "      <td>0</td>\n",
       "      <td>0</td>\n",
       "      <td>0</td>\n",
       "      <td>0</td>\n",
       "      <td>1</td>\n",
       "      <td>0</td>\n",
       "      <td>0</td>\n",
       "      <td>0</td>\n",
       "      <td>0</td>\n",
       "      <td>5957.190918</td>\n",
       "    </tr>\n",
       "  </tbody>\n",
       "</table>\n",
       "<p>5 rows × 25 columns</p>\n",
       "</div>"
      ],
      "text/plain": [
       "   Item_Weight  Item_Visibility  Item_MRP  Outlet_Years  Item_Fat_Content_1  \\\n",
       "0       20.750         0.926273  107.8622            14                   0   \n",
       "1        8.300         1.017280   87.3198             6                   0   \n",
       "2       14.600         1.561694  241.7538            15                   1   \n",
       "3        7.315         1.056745  155.0340             6                   0   \n",
       "4       13.600         0.917824  234.2300            28                   0   \n",
       "\n",
       "   Item_Fat_Content_2  Outlet_Location_Type_1  Outlet_Location_Type_2  \\\n",
       "0                   0                       0                       0   \n",
       "1                   1                       1                       0   \n",
       "2                   0                       0                       1   \n",
       "3                   0                       1                       0   \n",
       "4                   1                       0                       1   \n",
       "\n",
       "   Outlet_Size_1  Outlet_Size_2  ...  Outlet_1  Outlet_2  Outlet_3  Outlet_4  \\\n",
       "0              1              0  ...         0         0         0         0   \n",
       "1              0              1  ...         0         1         0         0   \n",
       "2              0              1  ...         0         0         0         0   \n",
       "3              0              1  ...         0         1         0         0   \n",
       "4              1              0  ...         0         0         0         0   \n",
       "\n",
       "   Outlet_5  Outlet_6  Outlet_7  Outlet_8  Outlet_9  Item_Outlet_Sales  \n",
       "0         0         0         0         0         1        1006.122192  \n",
       "1         0         0         0         0         0        1047.302979  \n",
       "2         0         0         0         0         0         707.810059  \n",
       "3         0         0         0         0         0        2213.698486  \n",
       "4         1         0         0         0         0        5957.190918  \n",
       "\n",
       "[5 rows x 25 columns]"
      ]
     },
     "execution_count": 66,
     "metadata": {},
     "output_type": "execute_result"
    }
   ],
   "source": [
    "test['Item_Outlet_Sales'] = y_pred\n",
    "test.head()"
   ]
  }
 ],
 "metadata": {
  "kernelspec": {
   "display_name": "Python 3",
   "language": "python",
   "name": "python3"
  },
  "language_info": {
   "codemirror_mode": {
    "name": "ipython",
    "version": 3
   },
   "file_extension": ".py",
   "mimetype": "text/x-python",
   "name": "python",
   "nbconvert_exporter": "python",
   "pygments_lexer": "ipython3",
   "version": "3.8.5"
  }
 },
 "nbformat": 4,
 "nbformat_minor": 4
}
